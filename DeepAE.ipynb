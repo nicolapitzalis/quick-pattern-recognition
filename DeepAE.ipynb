{
  "cells": [
    {
      "cell_type": "markdown",
      "metadata": {
        "id": "Q-6uze46vEt6"
      },
      "source": [
        "# Representation Learning using Auto Encoders"
      ]
    },
    {
      "cell_type": "code",
      "execution_count": 27,
      "metadata": {
        "execution": {
          "iopub.execute_input": "2024-05-13T14:13:18.414549Z",
          "iopub.status.busy": "2024-05-13T14:13:18.414169Z",
          "iopub.status.idle": "2024-05-13T14:13:31.900857Z",
          "shell.execute_reply": "2024-05-13T14:13:31.899929Z",
          "shell.execute_reply.started": "2024-05-13T14:13:18.414520Z"
        },
        "id": "Upsex1rCvEt9",
        "trusted": true
      },
      "outputs": [],
      "source": [
        "import tensorflow as tf\n",
        "import keras as K\n",
        "import matplotlib.pyplot as plt\n",
        "import numpy as np\n",
        "\n",
        "from keras.datasets import mnist\n",
        "from sklearn.model_selection import train_test_split\n",
        "from sklearn.linear_model import LogisticRegression"
      ]
    },
    {
      "cell_type": "code",
      "execution_count": 3,
      "metadata": {
        "colab": {
          "base_uri": "https://localhost:8080/"
        },
        "execution": {
          "iopub.execute_input": "2024-05-13T14:13:31.902900Z",
          "iopub.status.busy": "2024-05-13T14:13:31.902371Z",
          "iopub.status.idle": "2024-05-13T14:13:31.908023Z",
          "shell.execute_reply": "2024-05-13T14:13:31.906970Z",
          "shell.execute_reply.started": "2024-05-13T14:13:31.902874Z"
        },
        "id": "lh4hzoP_vEt-",
        "outputId": "440900db-05f0-4baa-e2ea-aba49c2d3d8e",
        "trusted": true
      },
      "outputs": [
        {
          "name": "stdout",
          "output_type": "stream",
          "text": [
            "Keras version: 2.2.4\n",
            "TensorFlow version: 2.13.1\n"
          ]
        }
      ],
      "source": [
        "print(\"Keras version:\", K.__version__)\n",
        "print(\"TensorFlow version:\", tf.__version__)"
      ]
    },
    {
      "cell_type": "code",
      "execution_count": 3,
      "metadata": {
        "colab": {
          "base_uri": "https://localhost:8080/"
        },
        "execution": {
          "iopub.execute_input": "2024-05-13T14:13:31.910149Z",
          "iopub.status.busy": "2024-05-13T14:13:31.909545Z",
          "iopub.status.idle": "2024-05-13T14:13:32.175425Z",
          "shell.execute_reply": "2024-05-13T14:13:32.174368Z",
          "shell.execute_reply.started": "2024-05-13T14:13:31.910115Z"
        },
        "id": "fXF91q-ivEt_",
        "outputId": "ba03cfb4-a403-4d30-8a87-7d37b0b4cee7",
        "trusted": true
      },
      "outputs": [
        {
          "name": "stdout",
          "output_type": "stream",
          "text": [
            "Num GPUs Available:  1\n",
            "GPU is available\n"
          ]
        }
      ],
      "source": [
        "print(\"Num GPUs Available: \", len(tf.config.experimental.list_physical_devices('GPU')))\n",
        "if tf.config.experimental.list_physical_devices('GPU'):\n",
        "    print(\"GPU is available\")\n",
        "else:\n",
        "    print(\"GPU is not available\")"
      ]
    },
    {
      "cell_type": "code",
      "execution_count": 4,
      "metadata": {
        "execution": {
          "iopub.execute_input": "2024-05-13T14:56:26.201028Z",
          "iopub.status.busy": "2024-05-13T14:56:26.200696Z",
          "iopub.status.idle": "2024-05-13T14:56:26.211793Z",
          "shell.execute_reply": "2024-05-13T14:56:26.210809Z",
          "shell.execute_reply.started": "2024-05-13T14:56:26.201005Z"
        },
        "id": "n6kZRJNqvEt_",
        "trusted": true
      },
      "outputs": [],
      "source": [
        "def log_reg(train_images, train_labels, test_images, test_labels):\n",
        "    # set up classifier model\n",
        "    classifier_input = K.layers.Input(shape=(train_images.shape[1],))\n",
        "    classifier_output = K.layers.Dense(10, activation='softmax')(classifier_input)\n",
        "    classifier = K.Model(classifier_input, classifier_output)\n",
        "    classifier.compile(optimizer='adam', loss='categorical_crossentropy', metrics=['accuracy'])\n",
        "\n",
        "    # early stopping\n",
        "    early_stopping = K.callbacks.EarlyStopping(monitor='val_loss', min_delta=0.0001, patience=5, verbose=1, restore_best_weights=True)\n",
        "\n",
        "    # training the classifier\n",
        "    classifier.fit(train_images, train_labels, epochs=50, batch_size=128, validation_split=0.2, verbose=0, callbacks=[early_stopping])\n",
        "\n",
        "    # classifier's evaluation\n",
        "    test_loss, test_accuracy = classifier.evaluate(test_images, test_labels)\n",
        "    print(f'Test accuracy: {test_accuracy}, Test loss: {test_loss}')\n",
        "\n",
        "def convergence(model, max_iter=100, n_img=10, conv=False):\n",
        "    fig, axes = plt.subplots(1, n_img, figsize=(20, 2))\n",
        "\n",
        "    for i in range(n_img):\n",
        "        if conv:\n",
        "            noise_image = np.random.normal(loc=0.5, scale=1., size=(1, 28, 28, 1))\n",
        "        else:\n",
        "            noise_image = np.random.normal(loc=0, scale=1, size=(1, 784))\n",
        "        noise_image = np.clip(noise_image, 0., 1.)\n",
        "\n",
        "        for _ in range(max_iter):\n",
        "            noise_image = model.predict(noise_image, verbose=0)\n",
        "\n",
        "        # Plot the denoised image\n",
        "        ax = axes[i]\n",
        "        ax.imshow(noise_image.reshape(28, 28), cmap='gray')\n",
        "        ax.set_title(f\"Image {i+1}\")\n",
        "        ax.axis('off')  # Hide axes ticks\n",
        "\n",
        "    plt.show()\n",
        "\n"
      ]
    },
    {
      "cell_type": "markdown",
      "metadata": {
        "id": "JgxJUT17vEuA"
      },
      "source": [
        "## Denoising Auto Encoder\n",
        "In the following we are going to dive into DAEs to learn hidden representations of the MNIST dataset.\n",
        "\n",
        "At first we will try with an auto-encoder of two layers of very small dimensions, that will get trained altogether. After that we are going to implement Greedy Unsupervised Layerwise Pretraining which will be used to train the same two layers used in the first instance, but once at a time –i.e. we train one layer to predict the noised data coming from the preceding layer (where the first layer will get the data as input). Afterwards, we'll also fine-tune the autoencoder to see if any improvement occurs."
      ]
    },
    {
      "cell_type": "markdown",
      "metadata": {
        "id": "1rlfJ-pOvEuA"
      },
      "source": [
        "### Data preprocessing"
      ]
    },
    {
      "cell_type": "code",
      "execution_count": 61,
      "metadata": {
        "execution": {
          "iopub.execute_input": "2024-05-13T14:13:32.178507Z",
          "iopub.status.busy": "2024-05-13T14:13:32.177410Z",
          "iopub.status.idle": "2024-05-13T14:13:34.382473Z",
          "shell.execute_reply": "2024-05-13T14:13:34.381683Z",
          "shell.execute_reply.started": "2024-05-13T14:13:32.178481Z"
        },
        "id": "w8pjkr_EvEuB",
        "trusted": true
      },
      "outputs": [],
      "source": [
        "(train_images, train_labels), (test_images, test_labels) = mnist.load_data()\n",
        "\n",
        "# reshape images to 1D\n",
        "train_images = train_images.astype('float32') / 255.\n",
        "test_images = test_images.astype('float32') / 255.\n",
        "train_images = train_images.reshape((len(train_images), 784))\n",
        "test_images = test_images.reshape((len(test_images), 784))\n",
        "\n",
        "# add noise to images\n",
        "noise_factor = 0.5\n",
        "x_train_noisy = train_images + noise_factor * np.random.normal(loc=0.0, scale=1.0, size=train_images.shape)\n",
        "x_test_noisy = test_images + noise_factor * np.random.normal(loc=0.0, scale=1.0, size=test_images.shape)\n",
        "x_train_noisy = np.clip(x_train_noisy, 0., 1.)\n",
        "x_test_noisy = np.clip(x_test_noisy, 0., 1.)\n",
        "\n",
        "train_labels = K.utils.to_categorical(train_labels, 10)\n",
        "test_labels = K.utils.to_categorical(test_labels, 10)"
      ]
    },
    {
      "cell_type": "markdown",
      "metadata": {
        "id": "3gOlb2h9vEuC"
      },
      "source": [
        "### 2-layers Auto-Encoder"
      ]
    },
    {
      "cell_type": "code",
      "execution_count": 62,
      "metadata": {
        "colab": {
          "base_uri": "https://localhost:8080/"
        },
        "execution": {
          "iopub.execute_input": "2024-05-13T14:49:45.902851Z",
          "iopub.status.busy": "2024-05-13T14:49:45.902203Z",
          "iopub.status.idle": "2024-05-13T14:50:14.181881Z",
          "shell.execute_reply": "2024-05-13T14:50:14.180966Z",
          "shell.execute_reply.started": "2024-05-13T14:49:45.902819Z"
        },
        "id": "Nn704X2OvEuC",
        "outputId": "6083ebac-0e1c-45a8-85fb-c5f4a33e3a13",
        "trusted": true
      },
      "outputs": [
        {
          "name": "stdout",
          "output_type": "stream",
          "text": [
            "Restoring model weights from the end of the best epoch: 31.\n",
            "Epoch 36: early stopping\n"
          ]
        },
        {
          "data": {
            "text/plain": [
              "<keras.src.callbacks.History at 0x78cd263fb6a0>"
            ]
          },
          "execution_count": 62,
          "metadata": {},
          "output_type": "execute_result"
        }
      ],
      "source": [
        "# setting up the model\n",
        "input_img = K.layers.Input(shape=(784,))\n",
        "# encoder\n",
        "encoded = K.layers.Dense(256, activation='relu')(input_img)\n",
        "encoded = K.layers.Dense(128, activation='relu')(encoded)\n",
        "# decoder\n",
        "decoded = K.layers.Dense(256, activation='relu')(encoded)\n",
        "decoded = K.layers.Dense(784, activation='sigmoid')(decoded)\n",
        "\n",
        "autoencoder = K.Model(input_img, decoded)\n",
        "encoder = K.Model(input_img, encoded)\n",
        "\n",
        "autoencoder.compile(optimizer='adam', loss='mean_squared_error')\n",
        "\n",
        "# early stopping\n",
        "early_stopping = K.callbacks.EarlyStopping(monitor='val_loss', min_delta=0.0001, patience=5, verbose=1, restore_best_weights=True)\n",
        "\n",
        "# autoencoder's training\n",
        "autoencoder.fit(x_train_noisy, train_images, epochs=50, batch_size=256, shuffle=True, validation_split=0.2, verbose=0, callbacks=[early_stopping])"
      ]
    },
    {
      "cell_type": "markdown",
      "metadata": {
        "id": "vU7_H37pvEuC"
      },
      "source": [
        "#### Classification score, reconstruction error and manifold convergence"
      ]
    },
    {
      "cell_type": "code",
      "execution_count": 63,
      "metadata": {
        "colab": {
          "base_uri": "https://localhost:8080/"
        },
        "execution": {
          "iopub.execute_input": "2024-05-13T14:55:14.106429Z",
          "iopub.status.busy": "2024-05-13T14:55:14.105991Z",
          "iopub.status.idle": "2024-05-13T14:55:35.175646Z",
          "shell.execute_reply": "2024-05-13T14:55:35.174565Z",
          "shell.execute_reply.started": "2024-05-13T14:55:14.106368Z"
        },
        "id": "O0RVj-RrvEuD",
        "outputId": "b9507c08-70cb-4ca6-f9a2-b27b028188c0",
        "trusted": true
      },
      "outputs": [
        {
          "name": "stdout",
          "output_type": "stream",
          "text": [
            "Restoring model weights from the end of the best epoch: 28.\n",
            "Epoch 33: early stopping\n",
            "313/313 [==============================] - 0s 1ms/step - loss: 0.3992 - accuracy: 0.8745\n",
            "Test accuracy: 0.8744999766349792, Test loss: 0.39919713139533997\n"
          ]
        }
      ],
      "source": [
        "# extract hidden representations using the encoder\n",
        "encoded_train_images = encoder.predict(x_train_noisy, verbose=0)\n",
        "encoded_test_images = encoder.predict(x_test_noisy, verbose=0)\n",
        "\n",
        "log_reg(encoded_train_images, train_labels, encoded_test_images, test_labels)"
      ]
    },
    {
      "cell_type": "code",
      "execution_count": 64,
      "metadata": {
        "colab": {
          "base_uri": "https://localhost:8080/"
        },
        "execution": {
          "iopub.execute_input": "2024-05-13T14:50:54.593774Z",
          "iopub.status.busy": "2024-05-13T14:50:54.593402Z",
          "iopub.status.idle": "2024-05-13T14:50:55.736930Z",
          "shell.execute_reply": "2024-05-13T14:50:55.734246Z",
          "shell.execute_reply.started": "2024-05-13T14:50:54.593744Z"
        },
        "id": "JK_qAAU0vEuD",
        "outputId": "72f0a377-573b-4357-a9a5-e22dae2fce92",
        "trusted": true
      },
      "outputs": [
        {
          "name": "stdout",
          "output_type": "stream",
          "text": [
            "Reconstruction error: 0.014036096632480621\n"
          ]
        }
      ],
      "source": [
        "# compute the reconstruction error on the test set\n",
        "mse = K.losses.MeanSquaredError()\n",
        "reconstruction_error = mse(autoencoder.predict(x_test_noisy, verbose=0), test_images).numpy()\n",
        "print(f'Reconstruction error: {reconstruction_error}')"
      ]
    },
    {
      "cell_type": "code",
      "execution_count": 65,
      "metadata": {
        "colab": {
          "base_uri": "https://localhost:8080/",
          "height": 190
        },
        "execution": {
          "iopub.execute_input": "2024-05-13T14:56:53.765406Z",
          "iopub.status.busy": "2024-05-13T14:56:53.765052Z",
          "iopub.status.idle": "2024-05-13T14:56:59.211563Z",
          "shell.execute_reply": "2024-05-13T14:56:59.210692Z",
          "shell.execute_reply.started": "2024-05-13T14:56:53.765367Z"
        },
        "id": "Mj_67-IkvEuE",
        "outputId": "ba1bbb1c-307f-4300-e26d-f0c1d7f6f70f",
        "trusted": true
      },
      "outputs": [
        {
          "data": {
            "image/png": "[encoded data removed]",
            "text/plain": [
              "<Figure size 2000x200 with 10 Axes>"
            ]
          },
          "metadata": {},
          "output_type": "display_data"
        }
      ],
      "source": [
        "convergence(autoencoder)"
      ]
    },
    {
      "cell_type": "markdown",
      "metadata": {
        "id": "zi47yv4lyJQR"
      },
      "source": [
        "random noise seems to be converging to digit 1 and digit 9 most of the time"
      ]
    },
    {
      "cell_type": "markdown",
      "metadata": {
        "id": "273lERc4vEuF"
      },
      "source": [
        "### Greedy Unsupervised Layerwise Pretraining\n",
        "As anticipated above, we are now implementing the GULP strategy to train deep autoencoders (each one composed of a single layer). In this case, given the simpplicity of the dataset we are going to use just two autoencoders (one with a layer of 256 units and one with a layer of 128, in order to match the structure of the previous built autoencoder)."
      ]
    },
    {
      "cell_type": "code",
      "execution_count": 10,
      "metadata": {
        "colab": {
          "base_uri": "https://localhost:8080/"
        },
        "execution": {
          "iopub.execute_input": "2024-05-13T14:45:23.826729Z",
          "iopub.status.busy": "2024-05-13T14:45:23.826336Z",
          "iopub.status.idle": "2024-05-13T14:45:50.560983Z",
          "shell.execute_reply": "2024-05-13T14:45:50.559957Z",
          "shell.execute_reply.started": "2024-05-13T14:45:23.826700Z"
        },
        "id": "rRZkm5WJvEuF",
        "outputId": "efc839c1-bfd3-4e99-f088-adb49324f558",
        "trusted": true
      },
      "outputs": [
        {
          "name": "stdout",
          "output_type": "stream",
          "text": [
            "Restoring model weights from the end of the best epoch: 24.\n",
            "Epoch 29: early stopping\n",
            "Restoring model weights from the end of the best epoch: 1.\n",
            "Epoch 6: early stopping\n"
          ]
        }
      ],
      "source": [
        "# define the autoencoder structure\n",
        "def create_autoencoder(input_size, encoding_dim):\n",
        "    input_layer = K.layers.Input(shape=(input_size,))\n",
        "    encoded = K.layers.Dense(encoding_dim, activation='relu')(input_layer)\n",
        "    decoded = K.layers.Dense(input_size, activation='sigmoid')(encoded)\n",
        "    autoencoder = K.Model(input_layer, decoded)\n",
        "    autoencoder.compile(optimizer='adam', loss='mean_squared_error')\n",
        "    return autoencoder\n",
        "\n",
        "# layerwise pretraining\n",
        "first_autoencoder = create_autoencoder(784, 256)\n",
        "# early stopping\n",
        "early_stopping = K.callbacks.EarlyStopping(monitor='val_loss', min_delta=0.0001, patience=5, verbose=1, restore_best_weights=True)\n",
        "first_autoencoder.fit(x_train_noisy, x_train_noisy, epochs=50, batch_size=256, shuffle=True, validation_split=0.2, callbacks=[early_stopping], verbose=0)\n",
        "\n",
        "# get the encoder\n",
        "first_encoder = K.Model(first_autoencoder.input, first_autoencoder.layers[1].output)\n",
        "first_encoded_train = first_encoder.predict(x_train_noisy, verbose=0)\n",
        "\n",
        "# adding noise to the hidden representation of the first autoencoder\n",
        "first_encoded_train_noised = first_encoded_train + noise_factor * np.random.normal(loc=0.0, scale=1.0, size=first_encoded_train.shape)\n",
        "first_encoded_train_noised = np.clip(first_encoded_train_noised, 0., 1.)\n",
        "\n",
        "second_autoencoder = create_autoencoder(256, 128)\n",
        "early_stopping = K.callbacks.EarlyStopping(monitor='val_loss', min_delta=0.0001, patience=5, verbose=1, restore_best_weights=True)\n",
        "second_autoencoder.fit(first_encoded_train_noised, first_encoded_train, epochs=50, batch_size=256, shuffle=True, validation_split=0.2, callbacks=[early_stopping], verbose=0)\n",
        "\n",
        "# stacking up the full autoencoder\n",
        "input_img = K.layers.Input(shape=(784,))\n",
        "first_encoded = first_autoencoder.layers[1](input_img)\n",
        "second_encoded = second_autoencoder.layers[1](first_encoded)\n",
        "second_decoded = second_autoencoder.layers[2](second_encoded)\n",
        "first_decoded = first_autoencoder.layers[2](second_decoded)\n",
        "\n",
        "autoencoder = K.Model(input_img, first_decoded)\n",
        "encoder = K.Model(input_img, second_encoded)\n",
        "autoencoder.compile(optimizer='adam', loss='mean_squared_error')"
      ]
    },
    {
      "cell_type": "code",
      "execution_count": 15,
      "metadata": {
        "colab": {
          "base_uri": "https://localhost:8080/"
        },
        "execution": {
          "iopub.execute_input": "2024-05-13T14:47:07.205601Z",
          "iopub.status.busy": "2024-05-13T14:47:07.205178Z",
          "iopub.status.idle": "2024-05-13T14:47:42.070513Z",
          "shell.execute_reply": "2024-05-13T14:47:42.069575Z",
          "shell.execute_reply.started": "2024-05-13T14:47:07.205568Z"
        },
        "id": "5ZY4HAMGvEuG",
        "outputId": "90ae7760-cef6-4a8f-e883-760309bf0e03",
        "trusted": true
      },
      "outputs": [
        {
          "name": "stdout",
          "output_type": "stream",
          "text": [
            "Restoring model weights from the end of the best epoch: 36.\n",
            "Epoch 41: early stopping\n",
            "313/313 [==============================] - 1s 2ms/step - loss: 1.0762 - accuracy: 0.6394\n",
            "Test accuracy: 0.6394000053405762, Test loss: 1.076186180114746\n"
          ]
        }
      ],
      "source": [
        "# extract hidden representations using the encoder\n",
        "encoded_train_images = encoder.predict(x_train_noisy, verbose=0)\n",
        "encoded_test_images = encoder.predict(x_test_noisy, verbose=0)\n",
        "\n",
        "log_reg(encoded_train_images, train_labels, encoded_test_images, test_labels)"
      ]
    },
    {
      "cell_type": "code",
      "execution_count": null,
      "metadata": {
        "id": "Za5sfGIJ0nz0"
      },
      "outputs": [],
      "source": [
        "# compute the reconstruction error on the test set\n",
        "mse = K.losses.MeanSquaredError()\n",
        "reconstruction_error = mse(autoencoder.predict(x_test_noisy, verbose=0), test_images).numpy()\n",
        "print(f'Reconstruction error: {reconstruction_error}')"
      ]
    },
    {
      "cell_type": "code",
      "execution_count": 16,
      "metadata": {
        "colab": {
          "base_uri": "https://localhost:8080/",
          "height": 190
        },
        "execution": {
          "iopub.execute_input": "2024-05-13T14:48:05.146441Z",
          "iopub.status.busy": "2024-05-13T14:48:05.145812Z",
          "iopub.status.idle": "2024-05-13T14:48:10.684721Z",
          "shell.execute_reply": "2024-05-13T14:48:10.683784Z",
          "shell.execute_reply.started": "2024-05-13T14:48:05.146407Z"
        },
        "id": "RO7Bf9PYvEuG",
        "outputId": "d290e0f2-83e6-4cf8-ac37-af16dcbe484f",
        "trusted": true
      },
      "outputs": [
        {
          "data": {
            "image/png": "[encoded data removed]",
            "text/plain": [
              "<Figure size 2000x200 with 10 Axes>"
            ]
          },
          "metadata": {},
          "output_type": "display_data"
        }
      ],
      "source": [
        "convergence(autoencoder)"
      ]
    },
    {
      "cell_type": "markdown",
      "metadata": {
        "id": "gYAAR_fLvEuG"
      },
      "source": [
        "The pre-training did not end up with a significant representation of the data, though as we can see from the image, it seems to be getting a grasp on where most digits are located –i.e. in the center of the image.\n",
        "\n",
        "To improve the perfomance, we are now fine-tuning the model, precisely we are let the model train for some other epochs until it starts to overfit (using early stopping to prevent it). Notice that the weights do not reset, rather they are set from the pre-training."
      ]
    },
    {
      "cell_type": "code",
      "execution_count": 17,
      "metadata": {
        "colab": {
          "base_uri": "https://localhost:8080/"
        },
        "execution": {
          "iopub.execute_input": "2024-05-13T14:48:10.687422Z",
          "iopub.status.busy": "2024-05-13T14:48:10.686689Z",
          "iopub.status.idle": "2024-05-13T14:48:39.579888Z",
          "shell.execute_reply": "2024-05-13T14:48:39.578850Z",
          "shell.execute_reply.started": "2024-05-13T14:48:10.687369Z"
        },
        "id": "dCVCSIH8vEuH",
        "outputId": "164cd7da-9c63-4457-f88c-15db14cb4ad6",
        "trusted": true
      },
      "outputs": [
        {
          "data": {
            "text/plain": [
              "<keras.src.callbacks.History at 0x7d1173fd0c10>"
            ]
          },
          "execution_count": 17,
          "metadata": {},
          "output_type": "execute_result"
        }
      ],
      "source": [
        "# fine-tuning the full autoencoder\n",
        "early_stopping = K.callbacks.EarlyStopping(monitor='val_loss', min_delta=0.0001, patience=5, verbose=1, restore_best_weights=True)\n",
        "autoencoder.fit(x_train_noisy, train_images, epochs=50, batch_size=256, shuffle=True, validation_split=0.2, callbacks=[early_stopping], verbose=0)"
      ]
    },
    {
      "cell_type": "code",
      "execution_count": 18,
      "metadata": {
        "colab": {
          "base_uri": "https://localhost:8080/"
        },
        "execution": {
          "iopub.execute_input": "2024-05-13T14:48:39.581416Z",
          "iopub.status.busy": "2024-05-13T14:48:39.581067Z",
          "iopub.status.idle": "2024-05-13T14:49:01.586149Z",
          "shell.execute_reply": "2024-05-13T14:49:01.585265Z",
          "shell.execute_reply.started": "2024-05-13T14:48:39.581390Z"
        },
        "id": "A4gfhBRxvEuH",
        "outputId": "43bda824-3890-4836-e4a8-62dbd690f9ad",
        "trusted": true
      },
      "outputs": [
        {
          "name": "stdout",
          "output_type": "stream",
          "text": [
            "Restoring model weights from the end of the best epoch: 19.\n",
            "Epoch 24: early stopping\n",
            "313/313 [==============================] - 1s 2ms/step - loss: 0.3873 - accuracy: 0.8765\n",
            "Test accuracy: 0.8765000104904175, Test loss: 0.38725772500038147\n"
          ]
        }
      ],
      "source": [
        "# extract hidden representations using the encoder\n",
        "encoded_train_images = encoder.predict(x_train_noisy, verbose=0)\n",
        "encoded_test_images = encoder.predict(x_test_noisy, verbose=0)\n",
        "\n",
        "log_reg(encoded_train_images, train_labels, encoded_test_images, test_labels)"
      ]
    },
    {
      "cell_type": "code",
      "execution_count": null,
      "metadata": {
        "id": "3mq0DFRc0uE9"
      },
      "outputs": [],
      "source": [
        "# compute the reconstruction error on the test set\n",
        "mse = K.losses.MeanSquaredError()\n",
        "reconstruction_error = mse(autoencoder.predict(x_test_noisy, verbose=0), test_images).numpy()\n",
        "print(f'Reconstruction error: {reconstruction_error}')"
      ]
    },
    {
      "cell_type": "markdown",
      "metadata": {
        "id": "zbJk52x5vEuI"
      },
      "source": [
        "The accuracy did improve significantly w.r.t. the pre-trained model, but just a little in comparison to the previous auto-encoder, the one that has been trained without GULP."
      ]
    },
    {
      "cell_type": "code",
      "execution_count": 19,
      "metadata": {
        "colab": {
          "base_uri": "https://localhost:8080/",
          "height": 190
        },
        "execution": {
          "iopub.execute_input": "2024-05-13T14:49:01.588814Z",
          "iopub.status.busy": "2024-05-13T14:49:01.588151Z",
          "iopub.status.idle": "2024-05-13T14:49:06.942252Z",
          "shell.execute_reply": "2024-05-13T14:49:06.941325Z",
          "shell.execute_reply.started": "2024-05-13T14:49:01.588779Z"
        },
        "id": "ZNBbG9iHvEuI",
        "outputId": "8ec881e4-a256-4ba6-ea0c-e100fadac7e2",
        "trusted": true
      },
      "outputs": [
        {
          "data": {
            "image/png": "[encoded data removed]",
            "text/plain": [
              "<Figure size 2000x200 with 10 Axes>"
            ]
          },
          "metadata": {},
          "output_type": "display_data"
        }
      ],
      "source": [
        "convergence(autoencoder)"
      ]
    },
    {
      "cell_type": "markdown",
      "metadata": {
        "id": "XiAowgyKvEuJ"
      },
      "source": [
        "Once again, the model seems to have learned a representation of the data as the random noise image converges to some digits, specifically 9 and 1 (same as before)."
      ]
    },
    {
      "cell_type": "markdown",
      "metadata": {
        "id": "5AFhk45vvEuJ"
      },
      "source": [
        "### Using a U-Shaped CNN as encoder-decoder structure\n",
        "Since we are dealing with images, we will now see whether using a U-Shaped CNN gives us any conspicuous advantage. We will restrict ourselves to just explore a simple structure of two convolutions/deconvolutions (where we will use maxpooling to downsample and a strided deconvolution to upsample)."
      ]
    },
    {
      "cell_type": "code",
      "execution_count": null,
      "metadata": {
        "id": "xOoKBpgl0cJM"
      },
      "outputs": [],
      "source": [
        "(train_images_2D, _), (test_images_2D, _) = mnist.load_data()\n",
        "\n",
        "train_images_2D = train_images_2D.astype('float32') / 255.\n",
        "test_images_2D = test_images_2D.astype('float32') / 255.\n",
        "\n",
        "train_images_2D = np.reshape(train_images_2D, (len(train_images_2D), 28, 28, 1))\n",
        "test_images_2D = np.reshape(test_images_2D, (len(test_images_2D), 28, 28, 1))\n",
        "\n",
        "x_train_noisy_2D = train_images_2D + noise_factor * np.random.normal(loc=0.0, scale=1.0, size=train_images_2D.shape)\n",
        "x_test_noisy_2D = test_images_2D + noise_factor * np.random.normal(loc=0.0, scale=1.0, size=test_images_2D.shape)\n",
        "\n",
        "x_train_noisy_2D = np.clip(x_train_noisy_2D, 0., 1.)\n",
        "x_test_noisy_2D = np.clip(x_test_noisy_2D, 0., 1.)"
      ]
    },
    {
      "cell_type": "code",
      "execution_count": 20,
      "metadata": {
        "colab": {
          "base_uri": "https://localhost:8080/"
        },
        "execution": {
          "iopub.execute_input": "2024-05-13T15:29:56.475822Z",
          "iopub.status.busy": "2024-05-13T15:29:56.475476Z",
          "iopub.status.idle": "2024-05-13T15:31:29.878759Z",
          "shell.execute_reply": "2024-05-13T15:31:29.877850Z",
          "shell.execute_reply.started": "2024-05-13T15:29:56.475796Z"
        },
        "id": "y7VsLBWBvEuJ",
        "outputId": "a53d8e60-d047-43ef-ae78-2d58c2903e6d",
        "trusted": true
      },
      "outputs": [
        {
          "name": "stdout",
          "output_type": "stream",
          "text": [
            "Restoring model weights from the end of the best epoch: 38.\n",
            "Epoch 43: early stopping\n"
          ]
        },
        {
          "data": {
            "text/plain": [
              "<keras.src.callbacks.History at 0x7d1161f06dd0>"
            ]
          },
          "execution_count": 20,
          "metadata": {},
          "output_type": "execute_result"
        }
      ],
      "source": [
        "input_img = K.layers.Input(shape=(28, 28, 1))\n",
        "# encoder\n",
        "x = K.layers.Conv2D(16, (3, 3), activation='relu', padding='same')(input_img)\n",
        "x = K.layers.MaxPooling2D((2, 2), padding='same')(x)\n",
        "x = K.layers.Conv2D(64, (3, 3), activation='relu', padding='same')(x)\n",
        "encoded = K.layers.MaxPooling2D((2, 2), padding='same')(x)\n",
        "\n",
        "# decoder\n",
        "x = K.layers.Conv2D(64, (3, 3), activation='relu', padding='same')(encoded)\n",
        "x = K.layers.UpSampling2D((2, 2))(x)\n",
        "x = K.layers.Conv2D(16, (3, 3), activation='relu', padding='same')(x)\n",
        "x = K.layers.UpSampling2D((2, 2))(x)\n",
        "decoded = K.layers.Conv2D(1, (3, 3), activation='sigmoid', padding='same')(x)\n",
        "\n",
        "autoencoder = K.Model(input_img, decoded)\n",
        "autoencoder.compile(optimizer='adam', loss='binary_crossentropy')\n",
        "\n",
        "# Train the autoencoder\n",
        "early_stopping = K.callbacks.EarlyStopping(monitor='val_loss', min_delta=0.0001, patience=5, verbose=1, restore_best_weights=True)\n",
        "autoencoder.fit(x_train_noisy_2D, train_images_2D, epochs=50, batch_size=128, shuffle=True, validation_split=0.2, callbacks=[early_stopping], verbose=0)"
      ]
    },
    {
      "cell_type": "code",
      "execution_count": 21,
      "metadata": {
        "colab": {
          "base_uri": "https://localhost:8080/"
        },
        "execution": {
          "iopub.execute_input": "2024-05-13T15:31:29.880479Z",
          "iopub.status.busy": "2024-05-13T15:31:29.880171Z",
          "iopub.status.idle": "2024-05-13T15:32:03.808522Z",
          "shell.execute_reply": "2024-05-13T15:32:03.807556Z",
          "shell.execute_reply.started": "2024-05-13T15:31:29.880454Z"
        },
        "id": "WcGH0xdVvEuK",
        "outputId": "42c2d3f3-becd-40ce-e0a6-9a92ad2e755c",
        "trusted": true
      },
      "outputs": [
        {
          "name": "stdout",
          "output_type": "stream",
          "text": [
            "Test accuracy: 0.9678000211715698, Test loss: 0.18384641408920288\n"
          ]
        }
      ],
      "source": [
        "# extracting the encoder part from the trained autoencoder\n",
        "autoencoder_input = K.layers.Input(shape=(28, 28, 1))\n",
        "x = autoencoder.layers[1](autoencoder_input)  # first Conv2D layer\n",
        "x = autoencoder.layers[2](x)  # first MaxPooling2D layer\n",
        "x = autoencoder.layers[3](x)  # second Conv2D layer\n",
        "encoded_output = autoencoder.layers[4](x)  # second MaxPooling2D layer\n",
        "\n",
        "# logistic regressor\n",
        "flatten = K.layers.Flatten()(encoded_output)\n",
        "dense = K.layers.Dense(128, activation='relu')(flatten)\n",
        "classifier_output = K.layers.Dense(10, activation='softmax')(dense)\n",
        "classifier_model = K.Model(autoencoder_input, classifier_output)\n",
        "\n",
        "classifier_model.compile(optimizer='adam', loss='categorical_crossentropy', metrics=['accuracy'])\n",
        "classifier_model.fit(x_train_noisy_2D, train_labels, epochs=30, batch_size=256, validation_split=0.2, verbose=0)\n",
        "\n",
        "test_loss, test_accuracy = classifier_model.evaluate(x_test_noisy_2D, test_labels, verbose=0)\n",
        "print(f'Test accuracy: {test_accuracy}, Test loss: {test_loss}')"
      ]
    },
    {
      "cell_type": "code",
      "execution_count": null,
      "metadata": {
        "id": "UuOFPWdP0piv"
      },
      "outputs": [],
      "source": [
        "# compute the reconstruction error on the test set\n",
        "mse = K.losses.MeanSquaredError()\n",
        "reconstruction_error = mse(autoencoder.predict(x_test_noisy, verbose=0), test_images).numpy()\n",
        "print(f'Reconstruction error: {reconstruction_error}')"
      ]
    },
    {
      "cell_type": "code",
      "execution_count": 24,
      "metadata": {
        "colab": {
          "base_uri": "https://localhost:8080/",
          "height": 190
        },
        "execution": {
          "iopub.execute_input": "2024-05-13T15:32:03.810980Z",
          "iopub.status.busy": "2024-05-13T15:32:03.810351Z",
          "iopub.status.idle": "2024-05-13T15:32:10.216367Z",
          "shell.execute_reply": "2024-05-13T15:32:10.215448Z",
          "shell.execute_reply.started": "2024-05-13T15:32:03.810943Z"
        },
        "id": "69aR9TyBvEuK",
        "outputId": "a60b7f9c-07e8-4867-c3f7-d39e5c379017",
        "trusted": true
      },
      "outputs": [
        {
          "data": {
            "image/png": "[encoded data removed]",
            "text/plain": [
              "<Figure size 2000x200 with 10 Axes>"
            ]
          },
          "metadata": {},
          "output_type": "display_data"
        }
      ],
      "source": [
        "convergence(autoencoder, conv=True)"
      ]
    },
    {
      "cell_type": "markdown",
      "metadata": {
        "id": "rrSMOsdMvEuK"
      },
      "source": [
        "The accuracy surely gets better than the previous models, but the reconstructions are the weirdest looking ones so far."
      ]
    },
    {
      "cell_type": "markdown",
      "metadata": {
        "id": "CbTfzMTP1F-y"
      },
      "source": [
        "# Contractive Auto Encoder\n",
        "Up to now, we have limited ourselves to using a noising process to determine our training.\n",
        "\n",
        "CAEs act similar to DAEs but with a slight difference: the formers specifically penalize the derivative of the hidden representation with respect to the input – meaning how much the internal representation changes in response to small changes in the input (focusing on the stability and robustness of the features themselves); while the latters focus on recovering an accurate, denoised version of the input from a deliberately corrupted version, thus encouraging the model to learn the more stable, structural characteristics of the data rather than noise.\n"
      ]
    },
    {
      "cell_type": "code",
      "execution_count": 5,
      "metadata": {
        "id": "xCGRhzWX7CYt"
      },
      "outputs": [],
      "source": [
        "(train_images, train_labels), (test_images, test_labels) = mnist.load_data()\n",
        "\n",
        "# reshape images to 1D\n",
        "train_images = train_images.astype('float32') / 255.\n",
        "test_images = test_images.astype('float32') / 255.\n",
        "train_images = train_images.reshape((len(train_images), 784))\n",
        "test_images = test_images.reshape((len(test_images), 784))\n",
        "\n",
        "train_labels = K.utils.to_categorical(train_labels, 10)\n",
        "test_labels = K.utils.to_categorical(test_labels, 10)"
      ]
    },
    {
      "cell_type": "code",
      "execution_count": 67,
      "metadata": {
        "id": "--AVyoiM_M3Q"
      },
      "outputs": [],
      "source": [
        "def frob_J_encoder(model, input):\n",
        "    f_enc = model(input)\n",
        "    weights = tf.transpose(model.layers[-1].weights[0])\n",
        "    return tf.reduce_sum((f_enc * (1-f_enc))**2 * tf.reduce_sum(weights**2, axis=1), axis=1)\n",
        "\n",
        "def contractive_loss(encoder, lam=1e-4):\n",
        "    def loss(y_true, y_pred):\n",
        "        mse = K.backend.mean(K.backend.square(y_true - y_pred), axis=-1)\n",
        "        return mse + lam * frob_J_encoder(encoder, y_true)\n",
        "    return loss"
      ]
    },
    {
      "cell_type": "code",
      "execution_count": 29,
      "metadata": {},
      "outputs": [],
      "source": [
        "def frob_J_encoder(model, input_data):\n",
        "    with tf.GradientTape() as tape:\n",
        "        tape.watch(input_data)\n",
        "        f_enc = model(input_data)\n",
        "    \n",
        "    J = tape.jacobian(f_enc, input_data)\n",
        "    return tf.norm(J, ord='fro', axis=(1, 2))\n",
        "\n",
        "def contractive_loss(encoder, lam=1e-4):\n",
        "    def loss(y_true, y_pred):\n",
        "        mse = K.backend.mean(K.backend.square(y_true - y_pred), axis=-1)\n",
        "        return mse + lam * frob_J_encoder(encoder, y_true)\n",
        "    return loss"
      ]
    },
    {
      "cell_type": "code",
      "execution_count": null,
      "metadata": {
        "colab": {
          "base_uri": "https://localhost:8080/"
        },
        "collapsed": true,
        "id": "kEHaq-4Y8Tnj",
        "outputId": "d250b9ca-78ee-4d3c-c4e3-9eb7bd252aa9"
      },
      "outputs": [],
      "source": [
        "# setting up the model\n",
        "input_img = K.layers.Input(shape=(784,))\n",
        "encoded = K.layers.Dense(256, activation='sigmoid')(input_img)\n",
        "encoded = K.layers.Dense(128, activation='sigmoid')(encoded)\n",
        "decoded = K.layers.Dense(256, activation='sigmoid')(encoded)\n",
        "decoded = K.layers.Dense(784, activation='sigmoid')(encoded)\n",
        "autoencoder = K.Model(input_img, decoded)\n",
        "encoder = K.Model(input_img, encoded)\n",
        "\n",
        "custom_loss = contractive_loss(encoder)\n",
        "autoencoder.compile(optimizer='adam', loss=custom_loss)\n",
        "\n",
        "# autoencoder's training\n",
        "early_stopping = K.callbacks.EarlyStopping(monitor='val_loss', min_delta=0.0001, patience=5, verbose=1, restore_best_weights=True)\n",
        "autoencoder.fit(train_images, train_images, epochs=30, batch_size=256, shuffle=True, validation_split=0.2, verbose=1, callbacks=[early_stopping])"
      ]
    },
    {
      "cell_type": "code",
      "execution_count": null,
      "metadata": {
        "colab": {
          "base_uri": "https://localhost:8080/"
        },
        "id": "Vlv8TV2WcBWS",
        "outputId": "37cb6dd9-e062-4a89-e30d-9692e0d61378"
      },
      "outputs": [],
      "source": [
        "# extract hidden representations using the encoder\n",
        "encoded_train_images = encoder.predict(train_images, verbose=0)\n",
        "encoded_test_images = encoder.predict(test_images, verbose=0)\n",
        "\n",
        "log_reg(encoded_train_images, train_labels, encoded_test_images, test_labels)"
      ]
    },
    {
      "cell_type": "code",
      "execution_count": 88,
      "metadata": {
        "colab": {
          "base_uri": "https://localhost:8080/"
        },
        "id": "MhOWvPKNczDD",
        "outputId": "b6f8b0d1-64d0-4b6c-d3fb-70fdf509bb61"
      },
      "outputs": [
        {
          "name": "stdout",
          "output_type": "stream",
          "text": [
            "Reconstruction error: 0.008153810165822506\n"
          ]
        }
      ],
      "source": [
        "# compute the reconstruction error on the test set\n",
        "mse = K.losses.MeanSquaredError()\n",
        "reconstruction_error = mse(autoencoder.predict(test_images, verbose=0), test_images).numpy()\n",
        "print(f'Reconstruction error: {reconstruction_error}')"
      ]
    },
    {
      "cell_type": "code",
      "execution_count": 89,
      "metadata": {
        "colab": {
          "base_uri": "https://localhost:8080/",
          "height": 190
        },
        "id": "yQqzI7D7I4YI",
        "outputId": "d7dada93-81fb-4ffa-c2bf-ef53a411ae9e"
      },
      "outputs": [
        {
          "data": {
            "image/png": "[encoded data removed]",
            "text/plain": [
              "<Figure size 2000x200 with 10 Axes>"
            ]
          },
          "metadata": {},
          "output_type": "display_data"
        }
      ],
      "source": [
        "convergence(autoencoder)"
      ]
    },
    {
      "cell_type": "code",
      "execution_count": 60,
      "metadata": {
        "colab": {
          "base_uri": "https://localhost:8080/",
          "height": 447
        },
        "id": "2-gvE3CI0nyq",
        "outputId": "6c401285-2174-483a-8060-ac649f669875"
      },
      "outputs": [
        {
          "name": "stdout",
          "output_type": "stream",
          "text": [
            "tf.Tensor(6.337863e-07, shape=(), dtype=float32)\n"
          ]
        },
        {
          "data": {
            "image/png": "[encoded data removed]",
            "text/plain": [
              "<Figure size 640x480 with 1 Axes>"
            ]
          },
          "metadata": {},
          "output_type": "display_data"
        }
      ],
      "source": [
        "noise_image = np.random.normal(loc=0, scale=1, size=(1, 784))\n",
        "noise_image = np.clip(noise_image, 0., 1.)\n",
        "prev = 0\n",
        "for _ in range(800):\n",
        "    noise_image = autoencoder.predict(noise_image, verbose=0)\n",
        "    distance = tf.norm(noise_image - prev)\n",
        "    prev = noise_image\n",
        "\n",
        "print(distance)\n",
        "plt.imshow(noise_image.reshape(28, 28), cmap='gray')\n",
        "plt.show()"
      ]
    },
    {
      "cell_type": "code",
      "execution_count": 84,
      "metadata": {
        "colab": {
          "base_uri": "https://localhost:8080/",
          "height": 384
        },
        "id": "L3lVvQociiYe",
        "outputId": "0138172f-24f1-4a68-937f-f0fbb9c12278"
      },
      "outputs": [
        {
          "name": "stdout",
          "output_type": "stream",
          "text": [
            "Epoch 1/20\n",
            "118/188 [=================>............] - ETA: 1s - loss: 0.0718"
          ]
        },
        {
          "ename": "KeyboardInterrupt",
          "evalue": "",
          "output_type": "error",
          "traceback": [
            "\u001b[0;31m---------------------------------------------------------------------------\u001b[0m",
            "\u001b[0;31mKeyboardInterrupt\u001b[0m                         Traceback (most recent call last)",
            "\u001b[0;32m<ipython-input-84-d3564aa10b9e>\u001b[0m in \u001b[0;36m<cell line: 15>\u001b[0;34m()\u001b[0m\n\u001b[1;32m     13\u001b[0m \u001b[0mfirst_autoencoder\u001b[0m \u001b[0;34m=\u001b[0m \u001b[0mcreate_autoencoder\u001b[0m\u001b[0;34m(\u001b[0m\u001b[0;36m784\u001b[0m\u001b[0;34m,\u001b[0m \u001b[0;36m256\u001b[0m\u001b[0;34m)\u001b[0m\u001b[0;34m\u001b[0m\u001b[0;34m\u001b[0m\u001b[0m\n\u001b[1;32m     14\u001b[0m \u001b[0mearly_stopping\u001b[0m \u001b[0;34m=\u001b[0m \u001b[0mK\u001b[0m\u001b[0;34m.\u001b[0m\u001b[0mcallbacks\u001b[0m\u001b[0;34m.\u001b[0m\u001b[0mEarlyStopping\u001b[0m\u001b[0;34m(\u001b[0m\u001b[0mmonitor\u001b[0m\u001b[0;34m=\u001b[0m\u001b[0;34m'val_loss'\u001b[0m\u001b[0;34m,\u001b[0m \u001b[0mmin_delta\u001b[0m\u001b[0;34m=\u001b[0m\u001b[0;36m0.0001\u001b[0m\u001b[0;34m,\u001b[0m \u001b[0mpatience\u001b[0m\u001b[0;34m=\u001b[0m\u001b[0;36m5\u001b[0m\u001b[0;34m,\u001b[0m \u001b[0mverbose\u001b[0m\u001b[0;34m=\u001b[0m\u001b[0;36m1\u001b[0m\u001b[0;34m,\u001b[0m \u001b[0mrestore_best_weights\u001b[0m\u001b[0;34m=\u001b[0m\u001b[0;32mTrue\u001b[0m\u001b[0;34m)\u001b[0m\u001b[0;34m\u001b[0m\u001b[0;34m\u001b[0m\u001b[0m\n\u001b[0;32m---> 15\u001b[0;31m \u001b[0mfirst_autoencoder\u001b[0m\u001b[0;34m.\u001b[0m\u001b[0mfit\u001b[0m\u001b[0;34m(\u001b[0m\u001b[0mtrain_images\u001b[0m\u001b[0;34m,\u001b[0m \u001b[0mtrain_images\u001b[0m\u001b[0;34m,\u001b[0m \u001b[0mepochs\u001b[0m\u001b[0;34m=\u001b[0m\u001b[0;36m20\u001b[0m\u001b[0;34m,\u001b[0m \u001b[0mbatch_size\u001b[0m\u001b[0;34m=\u001b[0m\u001b[0;36m256\u001b[0m\u001b[0;34m,\u001b[0m \u001b[0mshuffle\u001b[0m\u001b[0;34m=\u001b[0m\u001b[0;32mTrue\u001b[0m\u001b[0;34m,\u001b[0m \u001b[0mvalidation_split\u001b[0m\u001b[0;34m=\u001b[0m\u001b[0;36m0.2\u001b[0m\u001b[0;34m,\u001b[0m \u001b[0mcallbacks\u001b[0m\u001b[0;34m=\u001b[0m\u001b[0;34m[\u001b[0m\u001b[0mearly_stopping\u001b[0m\u001b[0;34m]\u001b[0m\u001b[0;34m,\u001b[0m \u001b[0mverbose\u001b[0m\u001b[0;34m=\u001b[0m\u001b[0;36m1\u001b[0m\u001b[0;34m)\u001b[0m\u001b[0;34m\u001b[0m\u001b[0;34m\u001b[0m\u001b[0m\n\u001b[0m\u001b[1;32m     16\u001b[0m \u001b[0;34m\u001b[0m\u001b[0m\n\u001b[1;32m     17\u001b[0m \u001b[0;31m# get the encoder\u001b[0m\u001b[0;34m\u001b[0m\u001b[0;34m\u001b[0m\u001b[0m\n",
            "\u001b[0;32m/usr/local/lib/python3.10/dist-packages/keras/src/utils/traceback_utils.py\u001b[0m in \u001b[0;36merror_handler\u001b[0;34m(*args, **kwargs)\u001b[0m\n\u001b[1;32m     63\u001b[0m         \u001b[0mfiltered_tb\u001b[0m \u001b[0;34m=\u001b[0m \u001b[0;32mNone\u001b[0m\u001b[0;34m\u001b[0m\u001b[0;34m\u001b[0m\u001b[0m\n\u001b[1;32m     64\u001b[0m         \u001b[0;32mtry\u001b[0m\u001b[0;34m:\u001b[0m\u001b[0;34m\u001b[0m\u001b[0;34m\u001b[0m\u001b[0m\n\u001b[0;32m---> 65\u001b[0;31m             \u001b[0;32mreturn\u001b[0m \u001b[0mfn\u001b[0m\u001b[0;34m(\u001b[0m\u001b[0;34m*\u001b[0m\u001b[0margs\u001b[0m\u001b[0;34m,\u001b[0m \u001b[0;34m**\u001b[0m\u001b[0mkwargs\u001b[0m\u001b[0;34m)\u001b[0m\u001b[0;34m\u001b[0m\u001b[0;34m\u001b[0m\u001b[0m\n\u001b[0m\u001b[1;32m     66\u001b[0m         \u001b[0;32mexcept\u001b[0m \u001b[0mException\u001b[0m \u001b[0;32mas\u001b[0m \u001b[0me\u001b[0m\u001b[0;34m:\u001b[0m\u001b[0;34m\u001b[0m\u001b[0;34m\u001b[0m\u001b[0m\n\u001b[1;32m     67\u001b[0m             \u001b[0mfiltered_tb\u001b[0m \u001b[0;34m=\u001b[0m \u001b[0m_process_traceback_frames\u001b[0m\u001b[0;34m(\u001b[0m\u001b[0me\u001b[0m\u001b[0;34m.\u001b[0m\u001b[0m__traceback__\u001b[0m\u001b[0;34m)\u001b[0m\u001b[0;34m\u001b[0m\u001b[0;34m\u001b[0m\u001b[0m\n",
            "\u001b[0;32m/usr/local/lib/python3.10/dist-packages/keras/src/engine/training.py\u001b[0m in \u001b[0;36mfit\u001b[0;34m(self, x, y, batch_size, epochs, verbose, callbacks, validation_split, validation_data, shuffle, class_weight, sample_weight, initial_epoch, steps_per_epoch, validation_steps, validation_batch_size, validation_freq, max_queue_size, workers, use_multiprocessing)\u001b[0m\n\u001b[1;32m   1805\u001b[0m                         ):\n\u001b[1;32m   1806\u001b[0m                             \u001b[0mcallbacks\u001b[0m\u001b[0;34m.\u001b[0m\u001b[0mon_train_batch_begin\u001b[0m\u001b[0;34m(\u001b[0m\u001b[0mstep\u001b[0m\u001b[0;34m)\u001b[0m\u001b[0;34m\u001b[0m\u001b[0;34m\u001b[0m\u001b[0m\n\u001b[0;32m-> 1807\u001b[0;31m                             \u001b[0mtmp_logs\u001b[0m \u001b[0;34m=\u001b[0m \u001b[0mself\u001b[0m\u001b[0;34m.\u001b[0m\u001b[0mtrain_function\u001b[0m\u001b[0;34m(\u001b[0m\u001b[0miterator\u001b[0m\u001b[0;34m)\u001b[0m\u001b[0;34m\u001b[0m\u001b[0;34m\u001b[0m\u001b[0m\n\u001b[0m\u001b[1;32m   1808\u001b[0m                             \u001b[0;32mif\u001b[0m \u001b[0mdata_handler\u001b[0m\u001b[0;34m.\u001b[0m\u001b[0mshould_sync\u001b[0m\u001b[0;34m:\u001b[0m\u001b[0;34m\u001b[0m\u001b[0;34m\u001b[0m\u001b[0m\n\u001b[1;32m   1809\u001b[0m                                 \u001b[0mcontext\u001b[0m\u001b[0;34m.\u001b[0m\u001b[0masync_wait\u001b[0m\u001b[0;34m(\u001b[0m\u001b[0;34m)\u001b[0m\u001b[0;34m\u001b[0m\u001b[0;34m\u001b[0m\u001b[0m\n",
            "\u001b[0;32m/usr/local/lib/python3.10/dist-packages/tensorflow/python/util/traceback_utils.py\u001b[0m in \u001b[0;36merror_handler\u001b[0;34m(*args, **kwargs)\u001b[0m\n\u001b[1;32m    148\u001b[0m     \u001b[0mfiltered_tb\u001b[0m \u001b[0;34m=\u001b[0m \u001b[0;32mNone\u001b[0m\u001b[0;34m\u001b[0m\u001b[0;34m\u001b[0m\u001b[0m\n\u001b[1;32m    149\u001b[0m     \u001b[0;32mtry\u001b[0m\u001b[0;34m:\u001b[0m\u001b[0;34m\u001b[0m\u001b[0;34m\u001b[0m\u001b[0m\n\u001b[0;32m--> 150\u001b[0;31m       \u001b[0;32mreturn\u001b[0m \u001b[0mfn\u001b[0m\u001b[0;34m(\u001b[0m\u001b[0;34m*\u001b[0m\u001b[0margs\u001b[0m\u001b[0;34m,\u001b[0m \u001b[0;34m**\u001b[0m\u001b[0mkwargs\u001b[0m\u001b[0;34m)\u001b[0m\u001b[0;34m\u001b[0m\u001b[0;34m\u001b[0m\u001b[0m\n\u001b[0m\u001b[1;32m    151\u001b[0m     \u001b[0;32mexcept\u001b[0m \u001b[0mException\u001b[0m \u001b[0;32mas\u001b[0m \u001b[0me\u001b[0m\u001b[0;34m:\u001b[0m\u001b[0;34m\u001b[0m\u001b[0;34m\u001b[0m\u001b[0m\n\u001b[1;32m    152\u001b[0m       \u001b[0mfiltered_tb\u001b[0m \u001b[0;34m=\u001b[0m \u001b[0m_process_traceback_frames\u001b[0m\u001b[0;34m(\u001b[0m\u001b[0me\u001b[0m\u001b[0;34m.\u001b[0m\u001b[0m__traceback__\u001b[0m\u001b[0;34m)\u001b[0m\u001b[0;34m\u001b[0m\u001b[0;34m\u001b[0m\u001b[0m\n",
            "\u001b[0;32m/usr/local/lib/python3.10/dist-packages/tensorflow/python/eager/polymorphic_function/polymorphic_function.py\u001b[0m in \u001b[0;36m__call__\u001b[0;34m(self, *args, **kwds)\u001b[0m\n\u001b[1;32m    830\u001b[0m \u001b[0;34m\u001b[0m\u001b[0m\n\u001b[1;32m    831\u001b[0m       \u001b[0;32mwith\u001b[0m \u001b[0mOptionalXlaContext\u001b[0m\u001b[0;34m(\u001b[0m\u001b[0mself\u001b[0m\u001b[0;34m.\u001b[0m\u001b[0m_jit_compile\u001b[0m\u001b[0;34m)\u001b[0m\u001b[0;34m:\u001b[0m\u001b[0;34m\u001b[0m\u001b[0;34m\u001b[0m\u001b[0m\n\u001b[0;32m--> 832\u001b[0;31m         \u001b[0mresult\u001b[0m \u001b[0;34m=\u001b[0m \u001b[0mself\u001b[0m\u001b[0;34m.\u001b[0m\u001b[0m_call\u001b[0m\u001b[0;34m(\u001b[0m\u001b[0;34m*\u001b[0m\u001b[0margs\u001b[0m\u001b[0;34m,\u001b[0m \u001b[0;34m**\u001b[0m\u001b[0mkwds\u001b[0m\u001b[0;34m)\u001b[0m\u001b[0;34m\u001b[0m\u001b[0;34m\u001b[0m\u001b[0m\n\u001b[0m\u001b[1;32m    833\u001b[0m \u001b[0;34m\u001b[0m\u001b[0m\n\u001b[1;32m    834\u001b[0m       \u001b[0mnew_tracing_count\u001b[0m \u001b[0;34m=\u001b[0m \u001b[0mself\u001b[0m\u001b[0;34m.\u001b[0m\u001b[0mexperimental_get_tracing_count\u001b[0m\u001b[0;34m(\u001b[0m\u001b[0;34m)\u001b[0m\u001b[0;34m\u001b[0m\u001b[0;34m\u001b[0m\u001b[0m\n",
            "\u001b[0;32m/usr/local/lib/python3.10/dist-packages/tensorflow/python/eager/polymorphic_function/polymorphic_function.py\u001b[0m in \u001b[0;36m_call\u001b[0;34m(self, *args, **kwds)\u001b[0m\n\u001b[1;32m    866\u001b[0m       \u001b[0;31m# In this case we have created variables on the first call, so we run the\u001b[0m\u001b[0;34m\u001b[0m\u001b[0;34m\u001b[0m\u001b[0m\n\u001b[1;32m    867\u001b[0m       \u001b[0;31m# defunned version which is guaranteed to never create variables.\u001b[0m\u001b[0;34m\u001b[0m\u001b[0;34m\u001b[0m\u001b[0m\n\u001b[0;32m--> 868\u001b[0;31m       return tracing_compilation.call_function(\n\u001b[0m\u001b[1;32m    869\u001b[0m           \u001b[0margs\u001b[0m\u001b[0;34m,\u001b[0m \u001b[0mkwds\u001b[0m\u001b[0;34m,\u001b[0m \u001b[0mself\u001b[0m\u001b[0;34m.\u001b[0m\u001b[0m_no_variable_creation_config\u001b[0m\u001b[0;34m\u001b[0m\u001b[0;34m\u001b[0m\u001b[0m\n\u001b[1;32m    870\u001b[0m       )\n",
            "\u001b[0;32m/usr/local/lib/python3.10/dist-packages/tensorflow/python/eager/polymorphic_function/tracing_compilation.py\u001b[0m in \u001b[0;36mcall_function\u001b[0;34m(args, kwargs, tracing_options)\u001b[0m\n\u001b[1;32m    137\u001b[0m   \u001b[0mbound_args\u001b[0m \u001b[0;34m=\u001b[0m \u001b[0mfunction\u001b[0m\u001b[0;34m.\u001b[0m\u001b[0mfunction_type\u001b[0m\u001b[0;34m.\u001b[0m\u001b[0mbind\u001b[0m\u001b[0;34m(\u001b[0m\u001b[0;34m*\u001b[0m\u001b[0margs\u001b[0m\u001b[0;34m,\u001b[0m \u001b[0;34m**\u001b[0m\u001b[0mkwargs\u001b[0m\u001b[0;34m)\u001b[0m\u001b[0;34m\u001b[0m\u001b[0;34m\u001b[0m\u001b[0m\n\u001b[1;32m    138\u001b[0m   \u001b[0mflat_inputs\u001b[0m \u001b[0;34m=\u001b[0m \u001b[0mfunction\u001b[0m\u001b[0;34m.\u001b[0m\u001b[0mfunction_type\u001b[0m\u001b[0;34m.\u001b[0m\u001b[0munpack_inputs\u001b[0m\u001b[0;34m(\u001b[0m\u001b[0mbound_args\u001b[0m\u001b[0;34m)\u001b[0m\u001b[0;34m\u001b[0m\u001b[0;34m\u001b[0m\u001b[0m\n\u001b[0;32m--> 139\u001b[0;31m   return function._call_flat(  # pylint: disable=protected-access\n\u001b[0m\u001b[1;32m    140\u001b[0m       \u001b[0mflat_inputs\u001b[0m\u001b[0;34m,\u001b[0m \u001b[0mcaptured_inputs\u001b[0m\u001b[0;34m=\u001b[0m\u001b[0mfunction\u001b[0m\u001b[0;34m.\u001b[0m\u001b[0mcaptured_inputs\u001b[0m\u001b[0;34m\u001b[0m\u001b[0;34m\u001b[0m\u001b[0m\n\u001b[1;32m    141\u001b[0m   )\n",
            "\u001b[0;32m/usr/local/lib/python3.10/dist-packages/tensorflow/python/eager/polymorphic_function/concrete_function.py\u001b[0m in \u001b[0;36m_call_flat\u001b[0;34m(self, tensor_inputs, captured_inputs)\u001b[0m\n\u001b[1;32m   1321\u001b[0m         and executing_eagerly):\n\u001b[1;32m   1322\u001b[0m       \u001b[0;31m# No tape is watching; skip to running the function.\u001b[0m\u001b[0;34m\u001b[0m\u001b[0;34m\u001b[0m\u001b[0m\n\u001b[0;32m-> 1323\u001b[0;31m       \u001b[0;32mreturn\u001b[0m \u001b[0mself\u001b[0m\u001b[0;34m.\u001b[0m\u001b[0m_inference_function\u001b[0m\u001b[0;34m.\u001b[0m\u001b[0mcall_preflattened\u001b[0m\u001b[0;34m(\u001b[0m\u001b[0margs\u001b[0m\u001b[0;34m)\u001b[0m\u001b[0;34m\u001b[0m\u001b[0;34m\u001b[0m\u001b[0m\n\u001b[0m\u001b[1;32m   1324\u001b[0m     forward_backward = self._select_forward_and_backward_functions(\n\u001b[1;32m   1325\u001b[0m         \u001b[0margs\u001b[0m\u001b[0;34m,\u001b[0m\u001b[0;34m\u001b[0m\u001b[0;34m\u001b[0m\u001b[0m\n",
            "\u001b[0;32m/usr/local/lib/python3.10/dist-packages/tensorflow/python/eager/polymorphic_function/atomic_function.py\u001b[0m in \u001b[0;36mcall_preflattened\u001b[0;34m(self, args)\u001b[0m\n\u001b[1;32m    214\u001b[0m   \u001b[0;32mdef\u001b[0m \u001b[0mcall_preflattened\u001b[0m\u001b[0;34m(\u001b[0m\u001b[0mself\u001b[0m\u001b[0;34m,\u001b[0m \u001b[0margs\u001b[0m\u001b[0;34m:\u001b[0m \u001b[0mSequence\u001b[0m\u001b[0;34m[\u001b[0m\u001b[0mcore\u001b[0m\u001b[0;34m.\u001b[0m\u001b[0mTensor\u001b[0m\u001b[0;34m]\u001b[0m\u001b[0;34m)\u001b[0m \u001b[0;34m->\u001b[0m \u001b[0mAny\u001b[0m\u001b[0;34m:\u001b[0m\u001b[0;34m\u001b[0m\u001b[0;34m\u001b[0m\u001b[0m\n\u001b[1;32m    215\u001b[0m     \u001b[0;34m\"\"\"Calls with flattened tensor inputs and returns the structured output.\"\"\"\u001b[0m\u001b[0;34m\u001b[0m\u001b[0;34m\u001b[0m\u001b[0m\n\u001b[0;32m--> 216\u001b[0;31m     \u001b[0mflat_outputs\u001b[0m \u001b[0;34m=\u001b[0m \u001b[0mself\u001b[0m\u001b[0;34m.\u001b[0m\u001b[0mcall_flat\u001b[0m\u001b[0;34m(\u001b[0m\u001b[0;34m*\u001b[0m\u001b[0margs\u001b[0m\u001b[0;34m)\u001b[0m\u001b[0;34m\u001b[0m\u001b[0;34m\u001b[0m\u001b[0m\n\u001b[0m\u001b[1;32m    217\u001b[0m     \u001b[0;32mreturn\u001b[0m \u001b[0mself\u001b[0m\u001b[0;34m.\u001b[0m\u001b[0mfunction_type\u001b[0m\u001b[0;34m.\u001b[0m\u001b[0mpack_output\u001b[0m\u001b[0;34m(\u001b[0m\u001b[0mflat_outputs\u001b[0m\u001b[0;34m)\u001b[0m\u001b[0;34m\u001b[0m\u001b[0;34m\u001b[0m\u001b[0m\n\u001b[1;32m    218\u001b[0m \u001b[0;34m\u001b[0m\u001b[0m\n",
            "\u001b[0;32m/usr/local/lib/python3.10/dist-packages/tensorflow/python/eager/polymorphic_function/atomic_function.py\u001b[0m in \u001b[0;36mcall_flat\u001b[0;34m(self, *args)\u001b[0m\n\u001b[1;32m    249\u001b[0m         \u001b[0;32mwith\u001b[0m \u001b[0mrecord\u001b[0m\u001b[0;34m.\u001b[0m\u001b[0mstop_recording\u001b[0m\u001b[0;34m(\u001b[0m\u001b[0;34m)\u001b[0m\u001b[0;34m:\u001b[0m\u001b[0;34m\u001b[0m\u001b[0;34m\u001b[0m\u001b[0m\n\u001b[1;32m    250\u001b[0m           \u001b[0;32mif\u001b[0m \u001b[0mself\u001b[0m\u001b[0;34m.\u001b[0m\u001b[0m_bound_context\u001b[0m\u001b[0;34m.\u001b[0m\u001b[0mexecuting_eagerly\u001b[0m\u001b[0;34m(\u001b[0m\u001b[0;34m)\u001b[0m\u001b[0;34m:\u001b[0m\u001b[0;34m\u001b[0m\u001b[0;34m\u001b[0m\u001b[0m\n\u001b[0;32m--> 251\u001b[0;31m             outputs = self._bound_context.call_function(\n\u001b[0m\u001b[1;32m    252\u001b[0m                 \u001b[0mself\u001b[0m\u001b[0;34m.\u001b[0m\u001b[0mname\u001b[0m\u001b[0;34m,\u001b[0m\u001b[0;34m\u001b[0m\u001b[0;34m\u001b[0m\u001b[0m\n\u001b[1;32m    253\u001b[0m                 \u001b[0mlist\u001b[0m\u001b[0;34m(\u001b[0m\u001b[0margs\u001b[0m\u001b[0;34m)\u001b[0m\u001b[0;34m,\u001b[0m\u001b[0;34m\u001b[0m\u001b[0;34m\u001b[0m\u001b[0m\n",
            "\u001b[0;32m/usr/local/lib/python3.10/dist-packages/tensorflow/python/eager/context.py\u001b[0m in \u001b[0;36mcall_function\u001b[0;34m(self, name, tensor_inputs, num_outputs)\u001b[0m\n\u001b[1;32m   1484\u001b[0m     \u001b[0mcancellation_context\u001b[0m \u001b[0;34m=\u001b[0m \u001b[0mcancellation\u001b[0m\u001b[0;34m.\u001b[0m\u001b[0mcontext\u001b[0m\u001b[0;34m(\u001b[0m\u001b[0;34m)\u001b[0m\u001b[0;34m\u001b[0m\u001b[0;34m\u001b[0m\u001b[0m\n\u001b[1;32m   1485\u001b[0m     \u001b[0;32mif\u001b[0m \u001b[0mcancellation_context\u001b[0m \u001b[0;32mis\u001b[0m \u001b[0;32mNone\u001b[0m\u001b[0;34m:\u001b[0m\u001b[0;34m\u001b[0m\u001b[0;34m\u001b[0m\u001b[0m\n\u001b[0;32m-> 1486\u001b[0;31m       outputs = execute.execute(\n\u001b[0m\u001b[1;32m   1487\u001b[0m           \u001b[0mname\u001b[0m\u001b[0;34m.\u001b[0m\u001b[0mdecode\u001b[0m\u001b[0;34m(\u001b[0m\u001b[0;34m\"utf-8\"\u001b[0m\u001b[0;34m)\u001b[0m\u001b[0;34m,\u001b[0m\u001b[0;34m\u001b[0m\u001b[0;34m\u001b[0m\u001b[0m\n\u001b[1;32m   1488\u001b[0m           \u001b[0mnum_outputs\u001b[0m\u001b[0;34m=\u001b[0m\u001b[0mnum_outputs\u001b[0m\u001b[0;34m,\u001b[0m\u001b[0;34m\u001b[0m\u001b[0;34m\u001b[0m\u001b[0m\n",
            "\u001b[0;32m/usr/local/lib/python3.10/dist-packages/tensorflow/python/eager/execute.py\u001b[0m in \u001b[0;36mquick_execute\u001b[0;34m(op_name, num_outputs, inputs, attrs, ctx, name)\u001b[0m\n\u001b[1;32m     51\u001b[0m   \u001b[0;32mtry\u001b[0m\u001b[0;34m:\u001b[0m\u001b[0;34m\u001b[0m\u001b[0;34m\u001b[0m\u001b[0m\n\u001b[1;32m     52\u001b[0m     \u001b[0mctx\u001b[0m\u001b[0;34m.\u001b[0m\u001b[0mensure_initialized\u001b[0m\u001b[0;34m(\u001b[0m\u001b[0;34m)\u001b[0m\u001b[0;34m\u001b[0m\u001b[0;34m\u001b[0m\u001b[0m\n\u001b[0;32m---> 53\u001b[0;31m     tensors = pywrap_tfe.TFE_Py_Execute(ctx._handle, device_name, op_name,\n\u001b[0m\u001b[1;32m     54\u001b[0m                                         inputs, attrs, num_outputs)\n\u001b[1;32m     55\u001b[0m   \u001b[0;32mexcept\u001b[0m \u001b[0mcore\u001b[0m\u001b[0;34m.\u001b[0m\u001b[0m_NotOkStatusException\u001b[0m \u001b[0;32mas\u001b[0m \u001b[0me\u001b[0m\u001b[0;34m:\u001b[0m\u001b[0;34m\u001b[0m\u001b[0;34m\u001b[0m\u001b[0m\n",
            "\u001b[0;31mKeyboardInterrupt\u001b[0m: "
          ]
        }
      ],
      "source": [
        "# define the autoencoder structure\n",
        "def create_autoencoder(input_size, encoding_dim):\n",
        "    input_layer = K.layers.Input(shape=(input_size,))\n",
        "    encoded = K.layers.Dense(encoding_dim, activation='sigmoid')(input_layer)\n",
        "    decoded = K.layers.Dense(input_size, activation='sigmoid')(encoded)\n",
        "    autoencoder = K.Model(input_layer, decoded)\n",
        "    encoder = K.Model(input_layer, encoded)\n",
        "    custom_loss = contractive_loss(encoder)\n",
        "    autoencoder.compile(optimizer='adam', loss=custom_loss)\n",
        "    return autoencoder\n",
        "\n",
        "# layerwise pretraining\n",
        "first_autoencoder = create_autoencoder(784, 256)\n",
        "early_stopping = K.callbacks.EarlyStopping(monitor='val_loss', min_delta=0.0001, patience=5, verbose=1, restore_best_weights=True)\n",
        "first_autoencoder.fit(train_images, train_images, epochs=20, batch_size=256, shuffle=True, validation_split=0.2, callbacks=[early_stopping], verbose=1)\n",
        "\n",
        "# get the encoder\n",
        "first_encoder = K.Model(first_autoencoder.input, first_autoencoder.layers[1].output)\n",
        "first_encoded_train = first_encoder.predict(train_images, verbose=0)\n",
        "\n",
        "second_autoencoder = create_autoencoder(256, 128)\n",
        "early_stopping = K.callbacks.EarlyStopping(monitor='val_loss', min_delta=0.0001, patience=5, verbose=1, restore_best_weights=True)\n",
        "second_autoencoder.fit(first_encoded_train, first_encoded_train, epochs=20, batch_size=256, shuffle=True, validation_split=0.2, callbacks=[early_stopping], verbose=1)\n",
        "\n",
        "# stacking up the full autoencoder\n",
        "input_img = K.layers.Input(shape=(784,))\n",
        "first_encoded = first_autoencoder.layers[1](input_img)\n",
        "second_encoded = second_autoencoder.layers[1](first_encoded)\n",
        "second_decoded = second_autoencoder.layers[2](second_encoded)\n",
        "first_decoded = first_autoencoder.layers[2](second_decoded)\n",
        "\n",
        "autoencoder = K.Model(input_img, first_decoded)\n",
        "encoder = K.Model(input_img, second_encoded)\n",
        "autoencoder.compile(optimizer='adam', loss='mean_squared_error')"
      ]
    },
    {
      "cell_type": "code",
      "execution_count": 69,
      "metadata": {
        "colab": {
          "base_uri": "https://localhost:8080/"
        },
        "id": "qIkLIXuGoMmo",
        "outputId": "7b095eb1-b7e5-48a0-de71-8eb3094a8c4e"
      },
      "outputs": [
        {
          "name": "stdout",
          "output_type": "stream",
          "text": [
            "313/313 [==============================] - 0s 1ms/step - loss: 0.2947 - accuracy: 0.9157\n",
            "Test accuracy: 0.9157000184059143, Test loss: 0.29471686482429504\n"
          ]
        }
      ],
      "source": [
        "# extract hidden representations using the encoder\n",
        "encoded_train_images = encoder.predict(train_images, verbose=0)\n",
        "encoded_test_images = encoder.predict(test_images, verbose=0)\n",
        "\n",
        "log_reg(encoded_train_images, train_labels, encoded_test_images, test_labels)"
      ]
    },
    {
      "cell_type": "code",
      "execution_count": 70,
      "metadata": {
        "colab": {
          "base_uri": "https://localhost:8080/"
        },
        "id": "dEulFHXVoMmp",
        "outputId": "6d673a5e-4e20-4989-9498-d5ad2117bb0a"
      },
      "outputs": [
        {
          "name": "stdout",
          "output_type": "stream",
          "text": [
            "Reconstruction error: 0.006373838521540165\n"
          ]
        }
      ],
      "source": [
        "# compute the reconstruction error on the test set\n",
        "mse = K.losses.MeanSquaredError()\n",
        "reconstruction_error = mse(autoencoder.predict(test_images, verbose=0), test_images).numpy()\n",
        "print(f'Reconstruction error: {reconstruction_error}')"
      ]
    },
    {
      "cell_type": "code",
      "execution_count": 71,
      "metadata": {
        "colab": {
          "base_uri": "https://localhost:8080/",
          "height": 190
        },
        "id": "iwXopaLooMmq",
        "outputId": "7dedc676-c6c9-41f0-fa3d-9d4b92add02b"
      },
      "outputs": [
        {
          "data": {
            "image/png": "[encoded data removed]",
            "text/plain": [
              "<Figure size 2000x200 with 10 Axes>"
            ]
          },
          "metadata": {},
          "output_type": "display_data"
        }
      ],
      "source": [
        "convergence(autoencoder, n_img=10)"
      ]
    },
    {
      "cell_type": "code",
      "execution_count": 72,
      "metadata": {
        "colab": {
          "base_uri": "https://localhost:8080/"
        },
        "execution": {
          "iopub.execute_input": "2024-05-13T14:48:10.687422Z",
          "iopub.status.busy": "2024-05-13T14:48:10.686689Z",
          "iopub.status.idle": "2024-05-13T14:48:39.579888Z",
          "shell.execute_reply": "2024-05-13T14:48:39.578850Z",
          "shell.execute_reply.started": "2024-05-13T14:48:10.687369Z"
        },
        "id": "LD7kbeLH3gZj",
        "outputId": "7af6592e-c54e-41ac-e0c0-14da58298c22",
        "trusted": true
      },
      "outputs": [
        {
          "name": "stdout",
          "output_type": "stream",
          "text": [
            "Restoring model weights from the end of the best epoch: 34.\n",
            "Epoch 39: early stopping\n"
          ]
        },
        {
          "data": {
            "text/plain": [
              "<keras.src.callbacks.History at 0x78cd34847760>"
            ]
          },
          "execution_count": 72,
          "metadata": {},
          "output_type": "execute_result"
        }
      ],
      "source": [
        "# fine-tuning the full autoencoder\n",
        "early_stopping = K.callbacks.EarlyStopping(monitor='val_loss', min_delta=0.0001, patience=5, verbose=1, restore_best_weights=True)\n",
        "autoencoder.fit(train_images, train_images, epochs=50, batch_size=256, shuffle=True, validation_split=0.2, callbacks=[early_stopping], verbose=0)"
      ]
    },
    {
      "cell_type": "code",
      "execution_count": 79,
      "metadata": {
        "colab": {
          "base_uri": "https://localhost:8080/"
        },
        "execution": {
          "iopub.execute_input": "2024-05-13T14:48:39.581416Z",
          "iopub.status.busy": "2024-05-13T14:48:39.581067Z",
          "iopub.status.idle": "2024-05-13T14:49:01.586149Z",
          "shell.execute_reply": "2024-05-13T14:49:01.585265Z",
          "shell.execute_reply.started": "2024-05-13T14:48:39.581390Z"
        },
        "id": "tPqnH4a-3gZo",
        "outputId": "b32dc22a-138c-4f4e-b6b2-183f13df20f2",
        "trusted": true
      },
      "outputs": [
        {
          "name": "stdout",
          "output_type": "stream",
          "text": [
            "313/313 [==============================] - 0s 1ms/step - loss: 0.3123 - accuracy: 0.9133\n",
            "Test accuracy: 0.9132999777793884, Test loss: 0.31230294704437256\n"
          ]
        }
      ],
      "source": [
        "# extract hidden representations using the encoder\n",
        "encoded_train_images = encoder.predict(train_images, verbose=0)\n",
        "encoded_test_images = encoder.predict(test_images, verbose=0)\n",
        "\n",
        "log_reg(encoded_train_images, train_labels, encoded_test_images, test_labels)"
      ]
    },
    {
      "cell_type": "code",
      "execution_count": 81,
      "metadata": {
        "colab": {
          "base_uri": "https://localhost:8080/"
        },
        "id": "OfM-wUTp3gZo",
        "outputId": "3e488356-1a77-4913-e6c8-dadcdb296440"
      },
      "outputs": [
        {
          "name": "stdout",
          "output_type": "stream",
          "text": [
            "Reconstruction error: 0.003314527915790677\n"
          ]
        }
      ],
      "source": [
        "# compute the reconstruction error on the test set\n",
        "mse = K.losses.MeanSquaredError()\n",
        "reconstruction_error = mse(autoencoder.predict(test_images, verbose=0), test_images).numpy()\n",
        "print(f'Reconstruction error: {reconstruction_error}')"
      ]
    },
    {
      "cell_type": "markdown",
      "metadata": {
        "id": "_zCnLOO73gZp"
      },
      "source": [
        "The accuracy did improve significantly w.r.t. the pre-trained model, but just a little in comparison to the previous auto-encoder, the one that has been trained without GULP."
      ]
    },
    {
      "cell_type": "code",
      "execution_count": 82,
      "metadata": {
        "colab": {
          "base_uri": "https://localhost:8080/",
          "height": 190
        },
        "execution": {
          "iopub.execute_input": "2024-05-13T14:49:01.588814Z",
          "iopub.status.busy": "2024-05-13T14:49:01.588151Z",
          "iopub.status.idle": "2024-05-13T14:49:06.942252Z",
          "shell.execute_reply": "2024-05-13T14:49:06.941325Z",
          "shell.execute_reply.started": "2024-05-13T14:49:01.588779Z"
        },
        "id": "dmub2fcA3gZp",
        "outputId": "22804c8a-e34a-4b07-90b8-78d2d10f389f",
        "trusted": true
      },
      "outputs": [
        {
          "data": {
            "image/png": "[encoded data removed]",
            "text/plain": [
              "<Figure size 2000x200 with 10 Axes>"
            ]
          },
          "metadata": {},
          "output_type": "display_data"
        }
      ],
      "source": [
        "convergence(autoencoder)"
      ]
    },
    {
      "cell_type": "code",
      "execution_count": null,
      "metadata": {
        "id": "-JhwzAywkVei"
      },
      "outputs": [],
      "source": []
    }
  ],
  "metadata": {
    "accelerator": "GPU",
    "colab": {
      "gpuType": "T4",
      "provenance": []
    },
    "kernelspec": {
      "display_name": "Python 3",
      "name": "python3"
    },
    "language_info": {
      "codemirror_mode": {
        "name": "ipython",
        "version": 3
      },
      "file_extension": ".py",
      "mimetype": "text/x-python",
      "name": "python",
      "nbconvert_exporter": "python",
      "pygments_lexer": "ipython3",
      "version": "3.8.19"
    }
  },
  "nbformat": 4,
  "nbformat_minor": 0
}
