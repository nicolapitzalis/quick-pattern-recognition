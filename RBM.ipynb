{
  "nbformat": 4,
  "nbformat_minor": 0,
  "metadata": {
    "colab": {
      "provenance": [],
      "authorship_tag": "ABX9TyP02sdcwUmp2Gvjy8dYorTf",
      "include_colab_link": true
    },
    "kernelspec": {
      "name": "python3",
      "display_name": "Python 3"
    },
    "language_info": {
      "name": "python"
    }
  },
  "cells": [
    {
      "cell_type": "markdown",
      "metadata": {
        "id": "view-in-github",
        "colab_type": "text"
      },
      "source": [
        "<a href=\"https://colab.research.google.com/github/nicolapitzalis/quick-pattern-recognition/blob/main/RBM.ipynb\" target=\"_parent\"><img src=\"https://colab.research.google.com/assets/colab-badge.svg\" alt=\"Open In Colab\"/></a>"
      ]
    },
    {
      "cell_type": "markdown",
      "source": [
        "# Using Restricted Boltzmann Machines for Discriminative Tasks\n",
        "In the following, we are going to implement a simple RBM architecture, to then exploit ist representative power to perform classification on the famous MNIST dataset.\n",
        "\n"
      ],
      "metadata": {
        "id": "Rvv1N0X_VkxH"
      }
    },
    {
      "cell_type": "markdown",
      "source": [
        "## Preparation"
      ],
      "metadata": {
        "id": "a3A9M7RFlzQK"
      }
    },
    {
      "cell_type": "markdown",
      "source": [
        "### Drive Mount"
      ],
      "metadata": {
        "id": "E4ypSFSoZn-O"
      }
    },
    {
      "cell_type": "code",
      "source": [
        "from google.colab import drive\n",
        "drive.mount('/content/drive')"
      ],
      "metadata": {
        "colab": {
          "base_uri": "https://localhost:8080/"
        },
        "id": "S8MrI-TLfElG",
        "outputId": "6e182caa-df46-437f-95a1-2b565a79c888"
      },
      "execution_count": null,
      "outputs": [
        {
          "output_type": "stream",
          "name": "stdout",
          "text": [
            "Drive already mounted at /content/drive; to attempt to forcibly remount, call drive.mount(\"/content/drive\", force_remount=True).\n"
          ]
        }
      ]
    },
    {
      "cell_type": "markdown",
      "source": [
        "### Imports"
      ],
      "metadata": {
        "id": "fFKnb0IzZqMT"
      }
    },
    {
      "cell_type": "code",
      "source": [
        "import matplotlib.pyplot as plt\n",
        "import numpy as np\n",
        "import struct\n",
        "from sklearn.linear_model import LinearRegression, LogisticRegression"
      ],
      "metadata": {
        "id": "WN8kUrH_YDnd"
      },
      "execution_count": null,
      "outputs": []
    },
    {
      "cell_type": "markdown",
      "source": [
        "### Load the Dataset"
      ],
      "metadata": {
        "id": "KIY3HVPsyr-1"
      }
    },
    {
      "cell_type": "code",
      "source": [
        "def read_idx(filename):\n",
        "    with open(filename, 'rb') as f:\n",
        "        zero, data_type, dims = struct.unpack('>HBB', f.read(4))\n",
        "        shape = tuple(struct.unpack('>I', f.read(4))[0] for d in range(dims))\n",
        "        return np.frombuffer(f.read(), dtype=np.uint8).reshape(shape)\n",
        "\n",
        "# Paths to the files\n",
        "train_image_file = '/content/drive/MyDrive/datasets/mnist/train-images.idx3-ubyte'\n",
        "train_label_file = '/content/drive/MyDrive/datasets/mnist/train-labels.idx1-ubyte'\n",
        "test_image_file = '/content/drive/MyDrive/datasets/mnist/t10k-images.idx3-ubyte'\n",
        "test_label_file = '/content/drive/MyDrive/datasets/mnist/t10k-labels.idx1-ubyte'\n",
        "\n",
        "# Read the files\n",
        "train_images = read_idx(train_image_file)\n",
        "train_labels = read_idx(train_label_file)\n",
        "test_images = read_idx(test_image_file)\n",
        "test_labels = read_idx(test_label_file)\n",
        "\n",
        "train_images = train_images.astype(np.float32) / 255.0\n",
        "test_images = test_images.astype(np.float32) / 255.0"
      ],
      "metadata": {
        "id": "leuuXoWCoRyg"
      },
      "execution_count": null,
      "outputs": []
    },
    {
      "cell_type": "markdown",
      "source": [
        "## Implementing the RBM"
      ],
      "metadata": {
        "id": "aLMobYZXyyDS"
      }
    },
    {
      "cell_type": "code",
      "source": [
        "class RBM:\n",
        "\n",
        "    def __init__(self, n_visible, n_hidden, learning_rate):\n",
        "        self.n_visible = n_visible\n",
        "        self.n_hidden = n_hidden\n",
        "        self.learning_rate = learning_rate\n",
        "\n",
        "        # Initialize weights and biases\n",
        "        self.weights = np.random.randn(n_visible, n_hidden) * 0.01\n",
        "        self.bias_hidden = np.zeros(n_hidden)\n",
        "        self.bias_visible = np.zeros(n_visible)\n",
        "\n",
        "    def _logistic(self, x):\n",
        "        return 1 / (1 + np.exp(-x))\n",
        "\n",
        "    def sample_from_p(self, p):\n",
        "        # Bernoulli sampling from a distribution p\n",
        "        return (p > np.random.rand(*p.shape)).astype(np.float32)\n",
        "\n",
        "    def sample_from_h(self, v):\n",
        "        # Compute probabilities and sample hidden states\n",
        "        p_h = self._logistic(np.dot(v, self.weights) + self.bias_hidden)\n",
        "        sample_h = self.sample_from_p(p_h)\n",
        "        return p_h, sample_h\n",
        "\n",
        "    def sample_from_v(self, h):\n",
        "        # Compute probabilities and sample visible states\n",
        "        p_v = self._logistic(np.dot(h, self.weights.T) + self.bias_visible)\n",
        "        sample_v = self.sample_from_p(p_v)\n",
        "        return p_v, sample_v\n",
        "\n",
        "    def cd_1(self, data, batch_size, max_epoch):\n",
        "        num_samples = data.shape[0]\n",
        "\n",
        "        for epoch in range(max_epoch):\n",
        "            epoch_error = 0.0\n",
        "\n",
        "            for i in range(0, num_samples, batch_size):\n",
        "                # Get the batch\n",
        "                v = data[i:i+batch_size]\n",
        "                binary_v = self.sample_from_p(v)\n",
        "\n",
        "                # Contrastive divergence\n",
        "                p_h, sample_h = self.sample_from_h(binary_v)\n",
        "                p_v, sample_v = self.sample_from_v(sample_h)\n",
        "                p_h1, _ = self.sample_from_h(sample_v)\n",
        "\n",
        "                # Compute the gradients\n",
        "                positive_phase = np.dot(binary_v.T, p_h)\n",
        "                negative_phase = np.dot(sample_v.T, p_h1)\n",
        "\n",
        "                # Update weights and biases\n",
        "                self.weights += self.learning_rate * (positive_phase - negative_phase) / batch_size\n",
        "                self.bias_hidden += self.learning_rate * np.mean(p_h - p_h1, axis=0)\n",
        "                self.bias_visible += self.learning_rate * np.mean(v - sample_v, axis=0)\n",
        "\n",
        "                # Calculate error\n",
        "                epoch_error += np.mean((binary_v - sample_v) ** 2)\n",
        "\n",
        "            epoch_error /= num_samples\n",
        "            print(f'Epoch: {epoch} \\t Error: {epoch_error}')\n"
      ],
      "metadata": {
        "id": "jZXzQZjI1lmR"
      },
      "execution_count": null,
      "outputs": []
    },
    {
      "cell_type": "markdown",
      "source": [
        "## Training the RBM and Classification Task\n",
        "Note that the images' matrices will be flattened into single vectors of 28x28 in order to feed the RBM.\n",
        "\n",
        "### The classification Task\n",
        "To understand whether our hidden representation is meaningful we choose very simple classifiers. For this reason, we explore both the linear regressor and the logistic regressor.\n",
        "\n",
        "Also, given the balancing of both the training and test set, we'll use Accuracy as the performance measure."
      ],
      "metadata": {
        "id": "EvuD5rTHkLiq"
      }
    },
    {
      "cell_type": "code",
      "source": [
        "unique_classes, counts = np.unique(train_labels, return_counts=True)\n",
        "print(dict(zip(unique_classes, counts)))"
      ],
      "metadata": {
        "id": "kGOW8OquMGlQ",
        "colab": {
          "base_uri": "https://localhost:8080/"
        },
        "outputId": "33f0c63b-70cb-4512-ff86-3c3daa13ce0d"
      },
      "execution_count": null,
      "outputs": [
        {
          "output_type": "stream",
          "name": "stdout",
          "text": [
            "{0: 5923, 1: 6742, 2: 5958, 3: 6131, 4: 5842, 5: 5421, 6: 5918, 7: 6265, 8: 5851, 9: 5949}\n"
          ]
        }
      ]
    },
    {
      "cell_type": "code",
      "source": [
        "unique_classes, counts = np.unique(test_labels, return_counts=True)\n",
        "print(dict(zip(unique_classes, counts)))"
      ],
      "metadata": {
        "colab": {
          "base_uri": "https://localhost:8080/"
        },
        "id": "0oIPlDi9eOdM",
        "outputId": "3ff83aba-ad16-481b-fe98-22e280b052d5"
      },
      "execution_count": null,
      "outputs": [
        {
          "output_type": "stream",
          "name": "stdout",
          "text": [
            "{0: 980, 1: 1135, 2: 1032, 3: 1010, 4: 982, 5: 892, 6: 958, 7: 1028, 8: 974, 9: 1009}\n"
          ]
        }
      ]
    },
    {
      "cell_type": "markdown",
      "source": [
        "### Training with 500 hidden units\n"
      ],
      "metadata": {
        "id": "YrNR6gawZ5ZS"
      }
    },
    {
      "cell_type": "code",
      "source": [
        "n_visible = 28 * 28  # Number of pixels in each image"
      ],
      "metadata": {
        "id": "7ridN7-OaQDt"
      },
      "execution_count": null,
      "outputs": []
    },
    {
      "cell_type": "code",
      "source": [
        "n_hidden = 500\n",
        "\n",
        "rbm = RBM(n_visible, n_hidden, learning_rate=0.2)\n",
        "\n",
        "# flatten the images\n",
        "train_flattened_images = train_images.reshape(-1, 28*28)\n",
        "test_flattened_images = test_images.reshape(-1, 28*28)\n",
        "\n",
        "# train the RBM\n",
        "rbm.cd_1(train_flattened_images, batch_size=64, max_epoch=10)"
      ],
      "metadata": {
        "colab": {
          "base_uri": "https://localhost:8080/"
        },
        "id": "3tHz2KvBykL6",
        "outputId": "0807d25c-6307-4dad-cb4d-5cc655f2d4ed"
      },
      "execution_count": null,
      "outputs": [
        {
          "output_type": "stream",
          "name": "stdout",
          "text": [
            "Epoch: 0 \t Error: 0.0012933510697757205\n",
            "Epoch: 1 \t Error: 0.0009167726273338\n",
            "Epoch: 2 \t Error: 0.0008279562616720795\n",
            "Epoch: 3 \t Error: 0.0007828991954525312\n",
            "Epoch: 4 \t Error: 0.0007543035188689828\n",
            "Epoch: 5 \t Error: 0.0007362131969382365\n",
            "Epoch: 6 \t Error: 0.0007230697944760323\n",
            "Epoch: 7 \t Error: 0.0007116715819264452\n",
            "Epoch: 8 \t Error: 0.0007039178757617871\n",
            "Epoch: 9 \t Error: 0.0006973260791351398\n"
          ]
        }
      ]
    },
    {
      "cell_type": "markdown",
      "source": [
        "Once the training has ended, we use the RBM to encode both the training and test set, in order to have a more powerful representation of the data that we'll use for the classification task."
      ],
      "metadata": {
        "id": "34Tbq6wtcOii"
      }
    },
    {
      "cell_type": "markdown",
      "source": [
        "### Encoding and Reconstruction\n",
        "We'll have a look at what the reconstructed images look like using the trained RBM. For this, we will use some selected images from the test set."
      ],
      "metadata": {
        "id": "CJURwJ94UTNe"
      }
    },
    {
      "cell_type": "code",
      "source": [
        "og_images = []\n",
        "og_images.append(test_flattened_images[3])\n",
        "og_images.append(test_flattened_images[2])\n",
        "og_images.append(test_flattened_images[1])\n",
        "og_images.append(test_flattened_images[30])\n",
        "og_images.append(test_flattened_images[4])\n",
        "og_images.append(test_flattened_images[15])\n",
        "og_images.append(test_flattened_images[8])\n",
        "og_images.append(test_flattened_images[0])\n",
        "og_images.append(test_flattened_images[61])\n",
        "og_images.append(test_flattened_images[7])\n",
        "\n",
        "reshaped_images = []\n",
        "for im in og_images:\n",
        "    reshaped_images.append(im.reshape(28, 28))\n",
        "\n",
        "fig, axes = plt.subplots(nrows=1, ncols=len(reshaped_images), figsize=(20, 2))\n",
        "\n",
        "for ax, image in zip(axes, reshaped_images):\n",
        "    ax.imshow(image, cmap='gray')\n",
        "    ax.axis('off')\n",
        "\n",
        "plt.show()"
      ],
      "metadata": {
        "colab": {
          "base_uri": "https://localhost:8080/",
          "height": 160
        },
        "id": "R02qcsUFMsyH",
        "outputId": "2c3590e5-e57d-4cbd-a61e-48a34de88377"
      },
      "execution_count": null,
      "outputs": [
        {
          "output_type": "display_data",
          "data": {
            "text/plain": [
              "<Figure size 2000x200 with 10 Axes>"
            ],
            "image/png": "[encoded data removed]"
          },
          "metadata": {}
        }
      ]
    },
    {
      "cell_type": "code",
      "source": [
        "recon_images = []\n",
        "\n",
        "for im in og_images:\n",
        "    bin_image = rbm.sample_from_p(im)\n",
        "    _, sample_h = rbm.sample_from_h(bin_image)\n",
        "    _, sample_v = rbm.sample_from_v(sample_h)\n",
        "    recon_images.append(sample_v.astype(int).reshape(28, 28))\n",
        "\n",
        "fig, axes = plt.subplots(nrows=1, ncols=len(recon_images), figsize=(20, 2))\n",
        "\n",
        "for ax, image in zip(axes, recon_images):\n",
        "    ax.imshow(image, cmap='gray')\n",
        "    ax.axis('off')\n",
        "\n",
        "plt.show()"
      ],
      "metadata": {
        "colab": {
          "base_uri": "https://localhost:8080/",
          "height": 160
        },
        "id": "nbuK6cGrML6B",
        "outputId": "32169626-f146-41bf-89f4-35cddbfff9ac"
      },
      "execution_count": null,
      "outputs": [
        {
          "output_type": "display_data",
          "data": {
            "text/plain": [
              "<Figure size 2000x200 with 10 Axes>"
            ],
            "image/png": "[encoded data removed]"
          },
          "metadata": {}
        }
      ]
    },
    {
      "cell_type": "markdown",
      "source": [
        "Now the entire training and test sets will be encoded to train our classifier."
      ],
      "metadata": {
        "id": "d69Dv0ccV5oz"
      }
    },
    {
      "cell_type": "code",
      "source": [
        "encoded_X = []\n",
        "\n",
        "for x in train_flattened_images:\n",
        "    binary_x = rbm.sample_from_p(x)\n",
        "    encoded_X.append(rbm.sample_from_h(binary_x)[1])\n",
        "\n",
        "X_train = np.array(encoded_X)\n",
        "y_train = train_labels"
      ],
      "metadata": {
        "id": "6A1wFJdJxFoh"
      },
      "execution_count": null,
      "outputs": []
    },
    {
      "cell_type": "code",
      "source": [
        "encoded_X = []\n",
        "\n",
        "for x in test_flattened_images:\n",
        "    binary_x = rbm.sample_from_p(x)\n",
        "    encoded_X.append(rbm.sample_from_h(binary_x)[1])\n",
        "\n",
        "X_test = np.array(encoded_X)\n",
        "y_test = test_labels"
      ],
      "metadata": {
        "id": "aItEDAwp7FEE"
      },
      "execution_count": null,
      "outputs": []
    },
    {
      "cell_type": "markdown",
      "source": [
        "### Regression"
      ],
      "metadata": {
        "id": "WHaStUqOcr4m"
      }
    },
    {
      "cell_type": "code",
      "source": [
        "clf = LinearRegression().fit(X_train, y_train)"
      ],
      "metadata": {
        "id": "mAAdlzUTpoul"
      },
      "execution_count": null,
      "outputs": []
    },
    {
      "cell_type": "code",
      "source": [
        "clf.score(X_test, y_test)"
      ],
      "metadata": {
        "colab": {
          "base_uri": "https://localhost:8080/"
        },
        "id": "mfo1-sqgsbrg",
        "outputId": "b0fb99ef-59a5-4218-fdac-cc9328f54d2c"
      },
      "execution_count": null,
      "outputs": [
        {
          "output_type": "execute_result",
          "data": {
            "text/plain": [
              "0.7008094215724834"
            ]
          },
          "metadata": {},
          "execution_count": 23
        }
      ]
    },
    {
      "cell_type": "markdown",
      "source": [
        "As one could expect, a linear regressor does not perform magnificently on the classification task at end, but still the results are not bad at all."
      ],
      "metadata": {
        "id": "cALDzb7SdKNv"
      }
    },
    {
      "cell_type": "code",
      "source": [
        "clf = LogisticRegression(solver='lbfgs', max_iter=1000, multi_class='multinomial').fit(X_train, y_train)"
      ],
      "metadata": {
        "id": "ahk71OgEAK8o"
      },
      "execution_count": null,
      "outputs": []
    },
    {
      "cell_type": "code",
      "source": [
        "clf.score(X_test, y_test)"
      ],
      "metadata": {
        "colab": {
          "base_uri": "https://localhost:8080/"
        },
        "id": "IiSCvHLmAesY",
        "outputId": "8e612765-4db9-46b2-9296-e7637ceec983"
      },
      "execution_count": null,
      "outputs": [
        {
          "output_type": "execute_result",
          "data": {
            "text/plain": [
              "0.9286"
            ]
          },
          "metadata": {},
          "execution_count": 25
        }
      ]
    },
    {
      "cell_type": "markdown",
      "source": [
        "The logistic regressor performs way better than the linear one, achieving an interesting performance result."
      ],
      "metadata": {
        "id": "7pNPR0gSdczs"
      }
    },
    {
      "cell_type": "markdown",
      "source": [
        "## More Experiments\n",
        "In the following we'll explore some more configurations of hyperparameters, especially the number of the hidden neurons."
      ],
      "metadata": {
        "id": "yotkP_hFetrn"
      }
    },
    {
      "cell_type": "markdown",
      "source": [
        "### Training with 100 hidden units"
      ],
      "metadata": {
        "id": "7bKdSWl9kHWg"
      }
    },
    {
      "cell_type": "code",
      "source": [
        "n_hidden = 100\n",
        "\n",
        "rbm = RBM(n_visible, n_hidden, learning_rate=0.2)\n",
        "\n",
        "# Flatten the images\n",
        "train_flattened_images = train_images.reshape(-1, 28*28)\n",
        "test_flattened_images = test_images.reshape(-1, 28*28)\n",
        "\n",
        "# Train the RBM\n",
        "rbm.cd_1(train_flattened_images, batch_size=64, max_epoch=10)"
      ],
      "metadata": {
        "colab": {
          "base_uri": "https://localhost:8080/"
        },
        "id": "cdO8UDSrPFtt",
        "outputId": "a4f30fb8-248a-498e-d22f-dc0c6fdca2ae"
      },
      "execution_count": null,
      "outputs": [
        {
          "output_type": "stream",
          "name": "stdout",
          "text": [
            "Epoch: 0 \t Error: 0.0015835103768855334\n",
            "Epoch: 1 \t Error: 0.0012063934958850345\n",
            "Epoch: 2 \t Error: 0.0011230219629282752\n",
            "Epoch: 3 \t Error: 0.001076966742426157\n",
            "Epoch: 4 \t Error: 0.001047032445607086\n",
            "Epoch: 5 \t Error: 0.0010266302625338236\n",
            "Epoch: 6 \t Error: 0.001009988507380088\n",
            "Epoch: 7 \t Error: 0.000999493782967329\n",
            "Epoch: 8 \t Error: 0.000991240167617798\n",
            "Epoch: 9 \t Error: 0.0009840342015028\n"
          ]
        }
      ]
    },
    {
      "cell_type": "markdown",
      "source": [
        "### Encoding and Reconstruction\n"
      ],
      "metadata": {
        "id": "UPKiKrR-WJvX"
      }
    },
    {
      "cell_type": "code",
      "source": [
        "fig, axes = plt.subplots(nrows=1, ncols=len(reshaped_images), figsize=(20, 2))\n",
        "\n",
        "for ax, image in zip(axes, reshaped_images):\n",
        "    ax.imshow(image, cmap='gray')\n",
        "    ax.axis('off')\n",
        "\n",
        "plt.show()"
      ],
      "metadata": {
        "colab": {
          "base_uri": "https://localhost:8080/",
          "height": 160
        },
        "outputId": "5211386f-2cfc-48ad-f449-5ac84bb4bc30",
        "id": "vbpVY7pJWJvY"
      },
      "execution_count": null,
      "outputs": [
        {
          "output_type": "display_data",
          "data": {
            "text/plain": [
              "<Figure size 2000x200 with 10 Axes>"
            ],
            "image/png": "[encoded data removed]"
          },
          "metadata": {}
        }
      ]
    },
    {
      "cell_type": "code",
      "source": [
        "recon_images = []\n",
        "\n",
        "for im in og_images:\n",
        "    bin_image = rbm.sample_from_p(im)\n",
        "    _, sample_h = rbm.sample_from_h(bin_image)\n",
        "    _, sample_v = rbm.sample_from_v(sample_h)\n",
        "    recon_images.append(sample_v.astype(int).reshape(28, 28))\n",
        "\n",
        "fig, axes = plt.subplots(nrows=1, ncols=len(recon_images), figsize=(20, 2))\n",
        "\n",
        "for ax, image in zip(axes, recon_images):\n",
        "    ax.imshow(image, cmap='gray')\n",
        "    ax.axis('off')\n",
        "\n",
        "plt.show()"
      ],
      "metadata": {
        "colab": {
          "base_uri": "https://localhost:8080/",
          "height": 160
        },
        "outputId": "f2594f1d-0a60-440d-f1bf-583250cd793c",
        "id": "NWREm-2pWJvY"
      },
      "execution_count": null,
      "outputs": [
        {
          "output_type": "display_data",
          "data": {
            "text/plain": [
              "<Figure size 2000x200 with 10 Axes>"
            ],
            "image/png": "[encoded data removed]"
          },
          "metadata": {}
        }
      ]
    },
    {
      "cell_type": "markdown",
      "source": [
        "Even thoug the accuracy did not change too much, we can see how the reconstructed images are a bit less clear than those produced by the RBM trained on 500 hidden units."
      ],
      "metadata": {
        "id": "y4cvCs7uXdiu"
      }
    },
    {
      "cell_type": "code",
      "source": [
        "encoded_X = []\n",
        "\n",
        "for x in train_flattened_images:\n",
        "    binary_x = rbm.sample_from_p(x)\n",
        "    encoded_X.append(rbm.sample_from_h(x)[1])\n",
        "\n",
        "X_train = np.array(encoded_X)\n",
        "y_train = train_labels"
      ],
      "metadata": {
        "id": "rGalJ3p5PVZA"
      },
      "execution_count": null,
      "outputs": []
    },
    {
      "cell_type": "code",
      "source": [
        "encoded_X = []\n",
        "\n",
        "for x in test_flattened_images:\n",
        "    binary_x = rbm.sample_from_p(x)\n",
        "    encoded_X.append(rbm.sample_from_h(x)[1])\n",
        "\n",
        "X_test = np.array(encoded_X)\n",
        "y_test = test_labels"
      ],
      "metadata": {
        "id": "DvTYlD3cPVZB"
      },
      "execution_count": null,
      "outputs": []
    },
    {
      "cell_type": "markdown",
      "source": [
        "### Regression"
      ],
      "metadata": {
        "id": "H_QgkNWzlAOa"
      }
    },
    {
      "cell_type": "code",
      "source": [
        "clf = LinearRegression().fit(X_train, y_train)"
      ],
      "metadata": {
        "id": "-Ms-aUrVPVZB"
      },
      "execution_count": null,
      "outputs": []
    },
    {
      "cell_type": "code",
      "source": [
        "clf.score(X_test, y_test)"
      ],
      "metadata": {
        "colab": {
          "base_uri": "https://localhost:8080/"
        },
        "outputId": "fd00d321-c12f-4a5c-ec36-ce01553e4dba",
        "id": "4sG9VNBtPVZB"
      },
      "execution_count": null,
      "outputs": [
        {
          "output_type": "execute_result",
          "data": {
            "text/plain": [
              "0.6464804501076176"
            ]
          },
          "metadata": {},
          "execution_count": 142
        }
      ]
    },
    {
      "cell_type": "code",
      "source": [
        "clf = LogisticRegression(solver='lbfgs', max_iter=1000, multi_class='multinomial').fit(X_train, y_train)"
      ],
      "metadata": {
        "id": "9br7UU65PVZC"
      },
      "execution_count": null,
      "outputs": []
    },
    {
      "cell_type": "code",
      "source": [
        "clf.score(X_test, y_test)"
      ],
      "metadata": {
        "colab": {
          "base_uri": "https://localhost:8080/"
        },
        "outputId": "87885d8f-6165-420f-a365-e5111683fc31",
        "id": "-p-Sig-CPVZC"
      },
      "execution_count": null,
      "outputs": [
        {
          "output_type": "execute_result",
          "data": {
            "text/plain": [
              "0.9176"
            ]
          },
          "metadata": {},
          "execution_count": 144
        }
      ]
    },
    {
      "cell_type": "markdown",
      "source": [
        "As we can observe, decreasing the number of hidden neurons up to 100 (from the initial 500) does not pertain a significant decrease in the accuracy score of the classifier.\n",
        "For this reason, we'll also explore a smaller RBM od 30 units."
      ],
      "metadata": {
        "id": "emYP5S4AfOqO"
      }
    },
    {
      "cell_type": "markdown",
      "source": [
        "### Training with 30 hidden units"
      ],
      "metadata": {
        "id": "f1_lNmtOlFZ7"
      }
    },
    {
      "cell_type": "code",
      "source": [
        "n_visible = 28 * 28  # Number of pixels in each image\n",
        "n_hidden = 30\n",
        "\n",
        "rbm = RBM(n_visible, n_hidden, learning_rate=0.2)\n",
        "\n",
        "# Flatten the images\n",
        "train_flattened_images = train_images.reshape(-1, 28*28)\n",
        "test_flattened_images = test_images.reshape(-1, 28*28)\n",
        "\n",
        "# Train the RBM\n",
        "rbm.cd_1(train_flattened_images, batch_size=64, max_epoch=10)"
      ],
      "metadata": {
        "colab": {
          "base_uri": "https://localhost:8080/"
        },
        "id": "yOJiPPAcP8x-",
        "outputId": "d8e1bcce-b64f-4d5c-9ac1-dd240695e6a9"
      },
      "execution_count": null,
      "outputs": [
        {
          "output_type": "stream",
          "name": "stdout",
          "text": [
            "Epoch: 0 \t Error: 0.0019400437125315269\n",
            "Epoch: 1 \t Error: 0.0016281568873673677\n",
            "Epoch: 2 \t Error: 0.0015851705348740022\n",
            "Epoch: 3 \t Error: 0.0015656768180429936\n",
            "Epoch: 4 \t Error: 0.001556596447651585\n",
            "Epoch: 5 \t Error: 0.0015496871011952558\n",
            "Epoch: 6 \t Error: 0.0015444438902040322\n",
            "Epoch: 7 \t Error: 0.0015382702884574732\n",
            "Epoch: 8 \t Error: 0.0015300518836826086\n",
            "Epoch: 9 \t Error: 0.0015248893909156323\n"
          ]
        }
      ]
    },
    {
      "cell_type": "markdown",
      "source": [
        "Also notice that 10 epochs seem to be enough since the error isn't really decreasing (probably given the huge number of batches processed at each epoch)"
      ],
      "metadata": {
        "id": "hOmmJ6efgcml"
      }
    },
    {
      "cell_type": "markdown",
      "source": [
        "### Encoding and Reconstruction\n"
      ],
      "metadata": {
        "id": "ALr0Ht1hW2C_"
      }
    },
    {
      "cell_type": "code",
      "source": [
        "fig, axes = plt.subplots(nrows=1, ncols=len(reshaped_images), figsize=(20, 2))\n",
        "\n",
        "for ax, image in zip(axes, reshaped_images):\n",
        "    ax.imshow(image, cmap='gray')\n",
        "    ax.axis('off')\n",
        "\n",
        "plt.show()"
      ],
      "metadata": {
        "colab": {
          "base_uri": "https://localhost:8080/",
          "height": 160
        },
        "outputId": "23fe2667-faa0-40cb-8d7d-c26cbafeb088",
        "id": "ipLU5kkBW2DN"
      },
      "execution_count": null,
      "outputs": [
        {
          "output_type": "display_data",
          "data": {
            "text/plain": [
              "<Figure size 2000x200 with 10 Axes>"
            ],
            "image/png": "[encoded data removed]"
          },
          "metadata": {}
        }
      ]
    },
    {
      "cell_type": "code",
      "source": [
        "recon_images = []\n",
        "\n",
        "for im in og_images:\n",
        "    bin_image = rbm.sample_from_p(im)\n",
        "    _, sample_h = rbm.sample_from_h(bin_image)\n",
        "    _, sample_v = rbm.sample_from_v(sample_h)\n",
        "    recon_images.append(sample_v.astype(int).reshape(28, 28))\n",
        "\n",
        "fig, axes = plt.subplots(nrows=1, ncols=len(recon_images), figsize=(20, 2))\n",
        "\n",
        "for ax, image in zip(axes, recon_images):\n",
        "    ax.imshow(image, cmap='gray')\n",
        "    ax.axis('off')\n",
        "\n",
        "plt.show()"
      ],
      "metadata": {
        "colab": {
          "base_uri": "https://localhost:8080/",
          "height": 160
        },
        "outputId": "2546dc22-fc82-497f-8744-eea56e68eeca",
        "id": "1Y5UEo2bW2DN"
      },
      "execution_count": null,
      "outputs": [
        {
          "output_type": "display_data",
          "data": {
            "text/plain": [
              "<Figure size 2000x200 with 10 Axes>"
            ],
            "image/png": "[encoded data removed]"
          },
          "metadata": {}
        }
      ]
    },
    {
      "cell_type": "markdown",
      "source": [
        "As we can see, the reconstruction isn't really too precise using only 30 hidden units."
      ],
      "metadata": {
        "id": "9XVSNWiEXPWl"
      }
    },
    {
      "cell_type": "code",
      "source": [
        "encoded_X = []\n",
        "\n",
        "for x in train_flattened_images:\n",
        "    binary_x = rbm.sample_from_p(x)\n",
        "    encoded_X.append(rbm.sample_from_h(x)[1])\n",
        "\n",
        "X_train = np.array(encoded_X)\n",
        "y_train = train_labels"
      ],
      "metadata": {
        "id": "_QzwRNDcP6GF"
      },
      "execution_count": null,
      "outputs": []
    },
    {
      "cell_type": "code",
      "source": [
        "encoded_X = []\n",
        "\n",
        "for x in test_flattened_images:\n",
        "    binary_x = rbm.sample_from_p(x)\n",
        "    encoded_X.append(rbm.sample_from_h(x)[1])\n",
        "\n",
        "X_test = np.array(encoded_X)\n",
        "y_test = test_labels"
      ],
      "metadata": {
        "id": "JEZzozn-P6GP"
      },
      "execution_count": null,
      "outputs": []
    },
    {
      "cell_type": "markdown",
      "source": [
        "### Regression"
      ],
      "metadata": {
        "id": "uPZrVQfHlI7j"
      }
    },
    {
      "cell_type": "code",
      "source": [
        "clf = LinearRegression().fit(X_train, y_train)"
      ],
      "metadata": {
        "id": "w65ouSz_P6GP"
      },
      "execution_count": null,
      "outputs": []
    },
    {
      "cell_type": "code",
      "source": [
        "clf.score(X_test, y_test)"
      ],
      "metadata": {
        "colab": {
          "base_uri": "https://localhost:8080/"
        },
        "outputId": "74b9d881-a1a3-461a-83e7-b71f920365b7",
        "id": "87HFs2EuP6GQ"
      },
      "execution_count": null,
      "outputs": [
        {
          "output_type": "execute_result",
          "data": {
            "text/plain": [
              "0.5572406751964744"
            ]
          },
          "metadata": {},
          "execution_count": 149
        }
      ]
    },
    {
      "cell_type": "code",
      "source": [
        "clf = LogisticRegression(solver='lbfgs', max_iter=1000, multi_class='multinomial').fit(X_train, y_train)"
      ],
      "metadata": {
        "id": "BVzXu1_uP6GQ"
      },
      "execution_count": null,
      "outputs": []
    },
    {
      "cell_type": "code",
      "source": [
        "clf.score(X_test, y_test)"
      ],
      "metadata": {
        "colab": {
          "base_uri": "https://localhost:8080/"
        },
        "outputId": "c6bbf586-d2c2-44e5-9141-056c357fac76",
        "id": "mcEeMWljP6GQ"
      },
      "execution_count": null,
      "outputs": [
        {
          "output_type": "execute_result",
          "data": {
            "text/plain": [
              "0.8603"
            ]
          },
          "metadata": {},
          "execution_count": 151
        }
      ]
    },
    {
      "cell_type": "markdown",
      "source": [
        "Using 30 hidden neurons seems to underperform quite noticeably w.r.t. the 100-neurons RBM."
      ],
      "metadata": {
        "id": "0KCDI8Rig5a6"
      }
    }
  ]
}