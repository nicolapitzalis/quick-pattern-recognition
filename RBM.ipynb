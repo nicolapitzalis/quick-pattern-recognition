{
  "nbformat": 4,
  "nbformat_minor": 0,
  "metadata": {
    "colab": {
      "provenance": [],
      "authorship_tag": "ABX9TyMVpT7BFhhcUrKr76Kp/AO0",
      "include_colab_link": true
    },
    "kernelspec": {
      "name": "python3",
      "display_name": "Python 3"
    },
    "language_info": {
      "name": "python"
    }
  },
  "cells": [
    {
      "cell_type": "markdown",
      "metadata": {
        "id": "view-in-github",
        "colab_type": "text"
      },
      "source": [
        "<a href=\"https://colab.research.google.com/github/nicolapitzalis/quick-pattern-recognition/blob/main/RBM.ipynb\" target=\"_parent\"><img src=\"https://colab.research.google.com/assets/colab-badge.svg\" alt=\"Open In Colab\"/></a>"
      ]
    },
    {
      "cell_type": "markdown",
      "source": [
        "# Using Restricted Boltzmann Machines for Discriminative Tasks\n",
        "In the following, we are going to implement a simple RBM architecture, to then exploit ist representative power to perform classification on the famous MNIST dataset.\n",
        "\n"
      ],
      "metadata": {
        "id": "Rvv1N0X_VkxH"
      }
    },
    {
      "cell_type": "markdown",
      "source": [
        "## Preparation"
      ],
      "metadata": {
        "id": "a3A9M7RFlzQK"
      }
    },
    {
      "cell_type": "markdown",
      "source": [
        "### Drive Mount"
      ],
      "metadata": {
        "id": "E4ypSFSoZn-O"
      }
    },
    {
      "cell_type": "code",
      "source": [
        "from google.colab import drive\n",
        "drive.mount('/content/drive')"
      ],
      "metadata": {
        "colab": {
          "base_uri": "https://localhost:8080/"
        },
        "id": "S8MrI-TLfElG",
        "outputId": "914047b4-53fe-48d9-b9d8-ff90108fcb1b"
      },
      "execution_count": null,
      "outputs": [
        {
          "output_type": "stream",
          "name": "stdout",
          "text": [
            "Drive already mounted at /content/drive; to attempt to forcibly remount, call drive.mount(\"/content/drive\", force_remount=True).\n"
          ]
        }
      ]
    },
    {
      "cell_type": "markdown",
      "source": [
        "### Imports"
      ],
      "metadata": {
        "id": "fFKnb0IzZqMT"
      }
    },
    {
      "cell_type": "code",
      "source": [
        "import matplotlib.pyplot as plt\n",
        "import numpy as np\n",
        "import struct\n",
        "from sklearn.linear_model import LinearRegression, LogisticRegression"
      ],
      "metadata": {
        "id": "WN8kUrH_YDnd"
      },
      "execution_count": null,
      "outputs": []
    },
    {
      "cell_type": "markdown",
      "source": [
        "### Load the Dataset"
      ],
      "metadata": {
        "id": "KIY3HVPsyr-1"
      }
    },
    {
      "cell_type": "code",
      "source": [
        "def read_idx(filename):\n",
        "    with open(filename, 'rb') as f:\n",
        "        zero, data_type, dims = struct.unpack('>HBB', f.read(4))\n",
        "        shape = tuple(struct.unpack('>I', f.read(4))[0] for d in range(dims))\n",
        "        return np.frombuffer(f.read(), dtype=np.uint8).reshape(shape)\n",
        "\n",
        "# Paths to the files\n",
        "train_image_file = '/content/drive/MyDrive/datasets/mnist/train-images.idx3-ubyte'\n",
        "train_label_file = '/content/drive/MyDrive/datasets/mnist/train-labels.idx1-ubyte'\n",
        "test_image_file = '/content/drive/MyDrive/datasets/mnist/t10k-images.idx3-ubyte'\n",
        "test_label_file = '/content/drive/MyDrive/datasets/mnist/t10k-labels.idx1-ubyte'\n",
        "\n",
        "# Read the files\n",
        "train_images = read_idx(train_image_file)\n",
        "train_labels = read_idx(train_label_file)\n",
        "test_images = read_idx(test_image_file)\n",
        "test_labels = read_idx(test_label_file)\n",
        "\n",
        "train_images = train_images.astype(np.float32) / 255.0\n",
        "test_images = test_images.astype(np.float32) / 255.0"
      ],
      "metadata": {
        "id": "leuuXoWCoRyg"
      },
      "execution_count": null,
      "outputs": []
    },
    {
      "cell_type": "markdown",
      "source": [
        "## Implementing the RBM"
      ],
      "metadata": {
        "id": "aLMobYZXyyDS"
      }
    },
    {
      "cell_type": "code",
      "source": [
        "class RBM:\n",
        "\n",
        "    def __init__(self, n_visible, n_hidden, learning_rate):\n",
        "        self.n_visible = n_visible\n",
        "        self.n_hidden = n_hidden\n",
        "        self.learning_rate = learning_rate\n",
        "\n",
        "        # Initialize weights and biases\n",
        "        self.weights = np.random.randn(n_visible, n_hidden) * 0.01\n",
        "        self.bias_hidden = np.zeros(n_hidden)\n",
        "        self.bias_visible = np.zeros(n_visible)\n",
        "\n",
        "    def _logistic(self, x):\n",
        "        return 1 / (1 + np.exp(-x))\n",
        "\n",
        "    def sample_from_p(self, p):\n",
        "        # Bernoulli sampling from a distribution p\n",
        "        return (p > np.random.rand(*p.shape)).astype(np.float32)\n",
        "\n",
        "    def sample_from_h(self, v):\n",
        "        # Compute probabilities and sample hidden states\n",
        "        p_h = self._logistic(np.dot(v, self.weights) + self.bias_hidden)\n",
        "        sample_h = self.sample_from_p(p_h)\n",
        "        return p_h, sample_h\n",
        "\n",
        "    def sample_from_v(self, h):\n",
        "        # Compute probabilities and sample visible states\n",
        "        p_v = self._logistic(np.dot(h, self.weights.T) + self.bias_visible)\n",
        "        sample_v = self.sample_from_p(p_v)\n",
        "        return p_v, sample_v\n",
        "\n",
        "    def cd_1(self, data, batch_size, max_epoch):\n",
        "        num_samples = data.shape[0]\n",
        "\n",
        "        for epoch in range(max_epoch):\n",
        "            epoch_error = 0.0\n",
        "\n",
        "            for i in range(0, num_samples, batch_size):\n",
        "                # Get the batch\n",
        "                v = data[i:i+batch_size]\n",
        "                binary_v = self.sample_from_p(v)\n",
        "\n",
        "                # Contrastive divergence\n",
        "                p_h, sample_h = self.sample_from_h(binary_v)\n",
        "                p_v, sample_v = self.sample_from_v(sample_h)\n",
        "                p_h1, _ = self.sample_from_h(sample_v)\n",
        "\n",
        "                # Compute the gradients\n",
        "                positive_phase = np.dot(binary_v.T, p_h)\n",
        "                negative_phase = np.dot(sample_v.T, p_h1)\n",
        "\n",
        "                # Update weights and biases\n",
        "                self.weights += self.learning_rate * (positive_phase - negative_phase) / batch_size\n",
        "                self.bias_hidden += self.learning_rate * np.mean(p_h - p_h1, axis=0)\n",
        "                self.bias_visible += self.learning_rate * np.mean(v - sample_v, axis=0)\n",
        "\n",
        "                # Calculate error\n",
        "                epoch_error += np.mean((binary_v - sample_v) ** 2)\n",
        "\n",
        "            epoch_error /= num_samples\n",
        "            print(f'Epoch: {epoch} \\t Error: {epoch_error}')\n"
      ],
      "metadata": {
        "id": "jZXzQZjI1lmR"
      },
      "execution_count": null,
      "outputs": []
    },
    {
      "cell_type": "markdown",
      "source": [
        "## Training the RBM and Classification Task\n",
        "Note that the images' matrices will be flattened into single vectors of 28x28 in order to feed the RBM.\n",
        "\n",
        "### The classification Task\n",
        "To understand whether our hidden representation is meaningful we choose very simple classifiers. For this reason, we explore both the linear regressor and the logistic regressor.\n",
        "\n",
        "Also, given the balancing of both the training and test set, we'll use Accuracy as the performance measure."
      ],
      "metadata": {
        "id": "EvuD5rTHkLiq"
      }
    },
    {
      "cell_type": "code",
      "source": [
        "unique_classes, counts = np.unique(train_labels, return_counts=True)\n",
        "print(dict(zip(unique_classes, counts)))"
      ],
      "metadata": {
        "id": "kGOW8OquMGlQ",
        "colab": {
          "base_uri": "https://localhost:8080/"
        },
        "outputId": "2709a287-b88b-4cc4-f8bc-d25bd4e685fc"
      },
      "execution_count": null,
      "outputs": [
        {
          "output_type": "stream",
          "name": "stdout",
          "text": [
            "{0: 5923, 1: 6742, 2: 5958, 3: 6131, 4: 5842, 5: 5421, 6: 5918, 7: 6265, 8: 5851, 9: 5949}\n"
          ]
        }
      ]
    },
    {
      "cell_type": "code",
      "source": [
        "unique_classes, counts = np.unique(test_labels, return_counts=True)\n",
        "print(dict(zip(unique_classes, counts)))"
      ],
      "metadata": {
        "colab": {
          "base_uri": "https://localhost:8080/"
        },
        "id": "0oIPlDi9eOdM",
        "outputId": "ba444480-f619-4cd6-c9d1-74f204e1eaab"
      },
      "execution_count": null,
      "outputs": [
        {
          "output_type": "stream",
          "name": "stdout",
          "text": [
            "{0: 980, 1: 1135, 2: 1032, 3: 1010, 4: 982, 5: 892, 6: 958, 7: 1028, 8: 974, 9: 1009}\n"
          ]
        }
      ]
    },
    {
      "cell_type": "markdown",
      "source": [
        "### Training with 500 hidden units\n"
      ],
      "metadata": {
        "id": "YrNR6gawZ5ZS"
      }
    },
    {
      "cell_type": "code",
      "source": [
        "n_visible = 28 * 28  # Number of pixels in each image"
      ],
      "metadata": {
        "id": "7ridN7-OaQDt"
      },
      "execution_count": null,
      "outputs": []
    },
    {
      "cell_type": "code",
      "source": [
        "n_hidden = 500\n",
        "\n",
        "rbm = RBM(n_visible, n_hidden, learning_rate=0.1)\n",
        "\n",
        "# flatten the images\n",
        "train_flattened_images = train_images.reshape(-1, 28*28)\n",
        "test_flattened_images = test_images.reshape(-1, 28*28)\n",
        "\n",
        "# train the RBM\n",
        "rbm.cd_1(train_flattened_images, batch_size=64, max_epoch=20)"
      ],
      "metadata": {
        "colab": {
          "base_uri": "https://localhost:8080/"
        },
        "id": "3tHz2KvBykL6",
        "outputId": "5b76f8e4-82a1-4b21-81b7-e05ab7a617fc"
      },
      "execution_count": null,
      "outputs": [
        {
          "output_type": "stream",
          "name": "stdout",
          "text": [
            "Epoch: 0 \t Error: 0.0014281137069066365\n",
            "Epoch: 1 \t Error: 0.0010045772211626173\n",
            "Epoch: 2 \t Error: 0.0008957898202041785\n",
            "Epoch: 3 \t Error: 0.0008351612309614818\n",
            "Epoch: 4 \t Error: 0.0007972280903408925\n",
            "Epoch: 5 \t Error: 0.0007702454028030237\n",
            "Epoch: 6 \t Error: 0.000749874441511929\n",
            "Epoch: 7 \t Error: 0.0007344919219613075\n",
            "Epoch: 8 \t Error: 0.0007234946330388387\n",
            "Epoch: 9 \t Error: 0.0007133848850925763\n",
            "Epoch: 10 \t Error: 0.0007047263635943334\n",
            "Epoch: 11 \t Error: 0.0006970145088310043\n",
            "Epoch: 12 \t Error: 0.0006923190378273526\n",
            "Epoch: 13 \t Error: 0.0006856734292581678\n",
            "Epoch: 14 \t Error: 0.000680821176369985\n",
            "Epoch: 15 \t Error: 0.0006774779455115397\n",
            "Epoch: 16 \t Error: 0.0006741091359406709\n",
            "Epoch: 17 \t Error: 0.0006705499978115161\n",
            "Epoch: 18 \t Error: 0.0006675708173463742\n",
            "Epoch: 19 \t Error: 0.0006650124885141849\n"
          ]
        }
      ]
    },
    {
      "cell_type": "markdown",
      "source": [
        "Once the training has ended, we use the RBM to encode both the training and test set, in order to have a more powerful representation of the data that we'll use for the classification task."
      ],
      "metadata": {
        "id": "34Tbq6wtcOii"
      }
    },
    {
      "cell_type": "markdown",
      "source": [
        "#### Encoding and Reconstruction\n",
        "We'll have a look at what the reconstructed images look like using the trained RBM. For this, we will use some selected images from the test set.\n",
        "\n",
        "We'll plot both the binary reconstructed images (sampling the visible probability distribution) and the normalized reconstructed images (scaling the probability distribution back to gray scale)"
      ],
      "metadata": {
        "id": "CJURwJ94UTNe"
      }
    },
    {
      "cell_type": "code",
      "source": [
        "og_images = []\n",
        "og_images.append(test_flattened_images[3])\n",
        "og_images.append(test_flattened_images[2])\n",
        "og_images.append(test_flattened_images[1])\n",
        "og_images.append(test_flattened_images[30])\n",
        "og_images.append(test_flattened_images[4])\n",
        "og_images.append(test_flattened_images[15])\n",
        "og_images.append(test_flattened_images[8])\n",
        "og_images.append(test_flattened_images[0])\n",
        "og_images.append(test_flattened_images[61])\n",
        "og_images.append(test_flattened_images[7])\n",
        "\n",
        "reshaped_images = []\n",
        "for im in og_images:\n",
        "    reshaped_images.append(im.reshape(28, 28))"
      ],
      "metadata": {
        "id": "R02qcsUFMsyH"
      },
      "execution_count": null,
      "outputs": []
    },
    {
      "cell_type": "code",
      "source": [
        "binary_recon_images = []\n",
        "normalized_recon_images = []\n",
        "\n",
        "for im in og_images:\n",
        "    bin_image = rbm.sample_from_p(im)\n",
        "    _, sample_h = rbm.sample_from_h(bin_image)\n",
        "    p_v, sample_v = rbm.sample_from_v(sample_h)\n",
        "    v_normalized = p_v * 255    # to scale back to gray scale from the p\n",
        "\n",
        "    binary_recon_images.append(sample_v.astype(int).reshape(28, 28))\n",
        "    normalized_recon_images.append(v_normalized.astype(int).reshape(28,28))\n",
        "\n",
        "fig, axes = plt.subplots(nrows=1, ncols=len(reshaped_images), figsize=(20, 2))\n",
        "fig.suptitle(\"Original Images\")\n",
        "for ax, image in zip(axes, reshaped_images):\n",
        "    ax.imshow(image, cmap='gray')\n",
        "    ax.axis('off')\n",
        "plt.show()\n",
        "\n",
        "fig, axes = plt.subplots(nrows=1, ncols=len(binary_recon_images), figsize=(20, 2))\n",
        "fig.suptitle(\"Binary Reconstructed Images\")\n",
        "for ax, image in zip(axes, binary_recon_images):\n",
        "    ax.imshow(image, cmap='gray')\n",
        "    ax.axis('off')\n",
        "plt.show()\n",
        "\n",
        "fig, axes = plt.subplots(nrows=1, ncols=len(binary_recon_images), figsize=(20, 2))\n",
        "fig.suptitle(\"Normalized Reconstructed Images\")\n",
        "for ax, image in zip(axes, normalized_recon_images):\n",
        "    ax.imshow(image, cmap='gray')\n",
        "    ax.axis('off')\n",
        "plt.show()"
      ],
      "metadata": {
        "colab": {
          "base_uri": "https://localhost:8080/",
          "height": 494
        },
        "id": "nbuK6cGrML6B",
        "outputId": "aaeab781-5834-4f2d-9229-0bbc944edc2e"
      },
      "execution_count": null,
      "outputs": [
        {
          "output_type": "display_data",
          "data": {
            "text/plain": [
              "<Figure size 2000x200 with 10 Axes>"
            ],
            "image/png": "[encoded data removed]"
          },
          "metadata": {}
        },
        {
          "output_type": "display_data",
          "data": {
            "text/plain": [
              "<Figure size 2000x200 with 10 Axes>"
            ],
            "image/png": "[encoded data removed]"
          },
          "metadata": {}
        },
        {
          "output_type": "display_data",
          "data": {
            "text/plain": [
              "<Figure size 2000x200 with 10 Axes>"
            ],
            "image/png": "[encoded data removed]"
          },
          "metadata": {}
        }
      ]
    },
    {
      "cell_type": "markdown",
      "source": [
        "Now the entire training and test sets will be encoded to train our classifier."
      ],
      "metadata": {
        "id": "d69Dv0ccV5oz"
      }
    },
    {
      "cell_type": "code",
      "source": [
        "encoded_X = []\n",
        "\n",
        "for x in train_flattened_images:\n",
        "    binary_x = rbm.sample_from_p(x)\n",
        "    encoded_X.append(rbm.sample_from_h(binary_x)[1])\n",
        "\n",
        "X_train = np.array(encoded_X)\n",
        "y_train = train_labels"
      ],
      "metadata": {
        "id": "6A1wFJdJxFoh"
      },
      "execution_count": null,
      "outputs": []
    },
    {
      "cell_type": "code",
      "source": [
        "encoded_X = []\n",
        "\n",
        "for x in test_flattened_images:\n",
        "    binary_x = rbm.sample_from_p(x)\n",
        "    encoded_X.append(rbm.sample_from_h(binary_x)[1])\n",
        "\n",
        "X_test = np.array(encoded_X)\n",
        "y_test = test_labels"
      ],
      "metadata": {
        "id": "aItEDAwp7FEE"
      },
      "execution_count": null,
      "outputs": []
    },
    {
      "cell_type": "markdown",
      "source": [
        "#### Regression"
      ],
      "metadata": {
        "id": "WHaStUqOcr4m"
      }
    },
    {
      "cell_type": "code",
      "source": [
        "clf = LinearRegression().fit(X_train, y_train)"
      ],
      "metadata": {
        "id": "mAAdlzUTpoul"
      },
      "execution_count": null,
      "outputs": []
    },
    {
      "cell_type": "code",
      "source": [
        "clf.score(X_test, y_test)"
      ],
      "metadata": {
        "colab": {
          "base_uri": "https://localhost:8080/"
        },
        "id": "mfo1-sqgsbrg",
        "outputId": "d0493b00-7007-47a1-ae7d-fd473ed32629"
      },
      "execution_count": null,
      "outputs": [
        {
          "output_type": "execute_result",
          "data": {
            "text/plain": [
              "0.6920141354386918"
            ]
          },
          "metadata": {},
          "execution_count": 86
        }
      ]
    },
    {
      "cell_type": "markdown",
      "source": [
        "As one could expect, a linear regressor does not perform magnificently on the classification task at end, but still the results are not bad at all."
      ],
      "metadata": {
        "id": "cALDzb7SdKNv"
      }
    },
    {
      "cell_type": "code",
      "source": [
        "clf = LogisticRegression(solver='lbfgs', max_iter=1000, multi_class='multinomial').fit(X_train, y_train)"
      ],
      "metadata": {
        "id": "ahk71OgEAK8o"
      },
      "execution_count": null,
      "outputs": []
    },
    {
      "cell_type": "code",
      "source": [
        "clf.score(X_test, y_test)"
      ],
      "metadata": {
        "colab": {
          "base_uri": "https://localhost:8080/"
        },
        "id": "IiSCvHLmAesY",
        "outputId": "280cd315-7f88-4f15-a062-95b952460164"
      },
      "execution_count": null,
      "outputs": [
        {
          "output_type": "execute_result",
          "data": {
            "text/plain": [
              "0.9269"
            ]
          },
          "metadata": {},
          "execution_count": 88
        }
      ]
    },
    {
      "cell_type": "markdown",
      "source": [
        "The logistic regressor performs way better than the linear one, achieving an interesting performance result."
      ],
      "metadata": {
        "id": "7pNPR0gSdczs"
      }
    },
    {
      "cell_type": "markdown",
      "source": [
        "## More Trials\n",
        "In the following we'll explore some more configurations of hyperparameters, especially the number of the hidden neurons."
      ],
      "metadata": {
        "id": "yotkP_hFetrn"
      }
    },
    {
      "cell_type": "markdown",
      "source": [
        "### Training with 100 hidden units"
      ],
      "metadata": {
        "id": "7bKdSWl9kHWg"
      }
    },
    {
      "cell_type": "code",
      "source": [
        "n_hidden = 100\n",
        "\n",
        "rbm = RBM(n_visible, n_hidden, learning_rate=0.1)\n",
        "\n",
        "# Flatten the images\n",
        "train_flattened_images = train_images.reshape(-1, 28*28)\n",
        "test_flattened_images = test_images.reshape(-1, 28*28)\n",
        "\n",
        "# Train the RBM\n",
        "rbm.cd_1(train_flattened_images, batch_size=64, max_epoch=20)"
      ],
      "metadata": {
        "colab": {
          "base_uri": "https://localhost:8080/"
        },
        "id": "cdO8UDSrPFtt",
        "outputId": "d47f1e35-cbd1-4f97-9aee-71d62e6857c6"
      },
      "execution_count": null,
      "outputs": [
        {
          "output_type": "stream",
          "name": "stdout",
          "text": [
            "Epoch: 0 \t Error: 0.001755820510412256\n",
            "Epoch: 1 \t Error: 0.001319522946452101\n",
            "Epoch: 2 \t Error: 0.001219614290446043\n",
            "Epoch: 3 \t Error: 0.0011653210704525312\n",
            "Epoch: 4 \t Error: 0.0011277722431346775\n",
            "Epoch: 5 \t Error: 0.0011013283254578709\n",
            "Epoch: 6 \t Error: 0.001079243730319043\n",
            "Epoch: 7 \t Error: 0.0010619794979070624\n",
            "Epoch: 8 \t Error: 0.0010480575051779548\n",
            "Epoch: 9 \t Error: 0.0010348526518171033\n",
            "Epoch: 10 \t Error: 0.00102510994579643\n",
            "Epoch: 11 \t Error: 0.0010159973534444968\n",
            "Epoch: 12 \t Error: 0.001008615007189413\n",
            "Epoch: 13 \t Error: 0.0010033877419307828\n",
            "Epoch: 14 \t Error: 0.000996188084470729\n",
            "Epoch: 15 \t Error: 0.0009916762975975871\n",
            "Epoch: 16 \t Error: 0.000986001608458658\n",
            "Epoch: 17 \t Error: 0.0009834286648159225\n",
            "Epoch: 18 \t Error: 0.0009797340031713246\n",
            "Epoch: 19 \t Error: 0.0009765086905409893\n"
          ]
        }
      ]
    },
    {
      "cell_type": "markdown",
      "source": [
        "#### Encoding and Reconstruction\n"
      ],
      "metadata": {
        "id": "UPKiKrR-WJvX"
      }
    },
    {
      "cell_type": "code",
      "source": [
        "binary_recon_images = []\n",
        "normalized_recon_images = []\n",
        "\n",
        "for im in og_images:\n",
        "    bin_image = rbm.sample_from_p(im)\n",
        "    _, sample_h = rbm.sample_from_h(bin_image)\n",
        "    p_v, sample_v = rbm.sample_from_v(sample_h)\n",
        "    v_normalized = p_v * 255    # to scale back to gray scale from the p\n",
        "\n",
        "    binary_recon_images.append(sample_v.astype(int).reshape(28, 28))\n",
        "    normalized_recon_images.append(v_normalized.astype(int).reshape(28,28))\n",
        "\n",
        "fig, axes = plt.subplots(nrows=1, ncols=len(reshaped_images), figsize=(20, 2))\n",
        "fig.suptitle(\"Original Images\")\n",
        "for ax, image in zip(axes, reshaped_images):\n",
        "    ax.imshow(image, cmap='gray')\n",
        "    ax.axis('off')\n",
        "plt.show()\n",
        "\n",
        "fig, axes = plt.subplots(nrows=1, ncols=len(binary_recon_images), figsize=(20, 2))\n",
        "fig.suptitle(\"Binary Reconstructed Images\")\n",
        "for ax, image in zip(axes, binary_recon_images):\n",
        "    ax.imshow(image, cmap='gray')\n",
        "    ax.axis('off')\n",
        "plt.show()\n",
        "\n",
        "fig, axes = plt.subplots(nrows=1, ncols=len(binary_recon_images), figsize=(20, 2))\n",
        "fig.suptitle(\"Normalized Reconstructed Images\")\n",
        "for ax, image in zip(axes, normalized_recon_images):\n",
        "    ax.imshow(image, cmap='gray')\n",
        "    ax.axis('off')\n",
        "plt.show()"
      ],
      "metadata": {
        "colab": {
          "base_uri": "https://localhost:8080/",
          "height": 494
        },
        "outputId": "42f22555-b9c5-431c-a86d-38c43da18cd4",
        "id": "NWREm-2pWJvY"
      },
      "execution_count": null,
      "outputs": [
        {
          "output_type": "display_data",
          "data": {
            "text/plain": [
              "<Figure size 2000x200 with 10 Axes>"
            ],
            "image/png": "[encoded data removed]"
          },
          "metadata": {}
        },
        {
          "output_type": "display_data",
          "data": {
            "text/plain": [
              "<Figure size 2000x200 with 10 Axes>"
            ],
            "image/png": "[encoded data removed]"
          },
          "metadata": {}
        },
        {
          "output_type": "display_data",
          "data": {
            "text/plain": [
              "<Figure size 2000x200 with 10 Axes>"
            ],
            "image/png": "[encoded data removed]"
          },
          "metadata": {}
        }
      ]
    },
    {
      "cell_type": "markdown",
      "source": [
        "Even thoug the accuracy did not change too much, we can see how the reconstructed images are a bit less clear than those produced by the RBM trained on 500 hidden units."
      ],
      "metadata": {
        "id": "y4cvCs7uXdiu"
      }
    },
    {
      "cell_type": "code",
      "source": [
        "encoded_X = []\n",
        "\n",
        "for x in train_flattened_images:\n",
        "    binary_x = rbm.sample_from_p(x)\n",
        "    encoded_X.append(rbm.sample_from_h(x)[1])\n",
        "\n",
        "X_train = np.array(encoded_X)\n",
        "y_train = train_labels"
      ],
      "metadata": {
        "id": "rGalJ3p5PVZA"
      },
      "execution_count": null,
      "outputs": []
    },
    {
      "cell_type": "code",
      "source": [
        "encoded_X = []\n",
        "\n",
        "for x in test_flattened_images:\n",
        "    binary_x = rbm.sample_from_p(x)\n",
        "    encoded_X.append(rbm.sample_from_h(x)[1])\n",
        "\n",
        "X_test = np.array(encoded_X)\n",
        "y_test = test_labels"
      ],
      "metadata": {
        "id": "DvTYlD3cPVZB"
      },
      "execution_count": null,
      "outputs": []
    },
    {
      "cell_type": "markdown",
      "source": [
        "#### Regression"
      ],
      "metadata": {
        "id": "H_QgkNWzlAOa"
      }
    },
    {
      "cell_type": "code",
      "source": [
        "clf = LinearRegression().fit(X_train, y_train)"
      ],
      "metadata": {
        "id": "-Ms-aUrVPVZB"
      },
      "execution_count": null,
      "outputs": []
    },
    {
      "cell_type": "code",
      "source": [
        "clf.score(X_test, y_test)"
      ],
      "metadata": {
        "colab": {
          "base_uri": "https://localhost:8080/"
        },
        "outputId": "537955f1-c843-4ea6-fce9-2ed3a0e93c67",
        "id": "4sG9VNBtPVZB"
      },
      "execution_count": null,
      "outputs": [
        {
          "output_type": "execute_result",
          "data": {
            "text/plain": [
              "0.6309856172715916"
            ]
          },
          "metadata": {},
          "execution_count": 95
        }
      ]
    },
    {
      "cell_type": "code",
      "source": [
        "clf = LogisticRegression(solver='lbfgs', max_iter=1000, multi_class='multinomial').fit(X_train, y_train)"
      ],
      "metadata": {
        "id": "9br7UU65PVZC"
      },
      "execution_count": null,
      "outputs": []
    },
    {
      "cell_type": "code",
      "source": [
        "clf.score(X_test, y_test)"
      ],
      "metadata": {
        "colab": {
          "base_uri": "https://localhost:8080/"
        },
        "outputId": "ed0a29dc-fe3e-40ab-c5cd-a6a380c4397a",
        "id": "-p-Sig-CPVZC"
      },
      "execution_count": null,
      "outputs": [
        {
          "output_type": "execute_result",
          "data": {
            "text/plain": [
              "0.9124"
            ]
          },
          "metadata": {},
          "execution_count": 97
        }
      ]
    },
    {
      "cell_type": "markdown",
      "source": [
        "As we can observe, decreasing the number of hidden neurons up to 100 (from the initial 500) does not pertain a significant decrease in the accuracy score of the classifier.\n",
        "For this reason, we'll also explore a smaller RBM od 30 units."
      ],
      "metadata": {
        "id": "emYP5S4AfOqO"
      }
    },
    {
      "cell_type": "markdown",
      "source": [
        "### Training with 30 hidden units"
      ],
      "metadata": {
        "id": "f1_lNmtOlFZ7"
      }
    },
    {
      "cell_type": "code",
      "source": [
        "n_visible = 28 * 28  # Number of pixels in each image\n",
        "n_hidden = 30\n",
        "\n",
        "rbm = RBM(n_visible, n_hidden, learning_rate=0.1)\n",
        "\n",
        "# Flatten the images\n",
        "train_flattened_images = train_images.reshape(-1, 28*28)\n",
        "test_flattened_images = test_images.reshape(-1, 28*28)\n",
        "\n",
        "# Train the RBM\n",
        "rbm.cd_1(train_flattened_images, batch_size=64, max_epoch=20)"
      ],
      "metadata": {
        "colab": {
          "base_uri": "https://localhost:8080/"
        },
        "id": "yOJiPPAcP8x-",
        "outputId": "c3c62ccf-1c8d-485d-bbdd-5a8580c4029d"
      },
      "execution_count": null,
      "outputs": [
        {
          "output_type": "stream",
          "name": "stdout",
          "text": [
            "Epoch: 0 \t Error: 0.0021509353760629894\n",
            "Epoch: 1 \t Error: 0.001721699617927273\n",
            "Epoch: 2 \t Error: 0.001643975540002187\n",
            "Epoch: 3 \t Error: 0.001610037668546041\n",
            "Epoch: 4 \t Error: 0.0015889575341095528\n",
            "Epoch: 5 \t Error: 0.0015743399905661741\n",
            "Epoch: 6 \t Error: 0.0015635669102271397\n",
            "Epoch: 7 \t Error: 0.00155846254453063\n",
            "Epoch: 8 \t Error: 0.0015520328434805075\n",
            "Epoch: 9 \t Error: 0.0015489041917026043\n",
            "Epoch: 10 \t Error: 0.0015432667004565397\n",
            "Epoch: 11 \t Error: 0.0015412494687984386\n",
            "Epoch: 12 \t Error: 0.001535518973444899\n",
            "Epoch: 13 \t Error: 0.001535346248249213\n",
            "Epoch: 14 \t Error: 0.0015305597634365162\n",
            "Epoch: 15 \t Error: 0.0015277685878177483\n",
            "Epoch: 16 \t Error: 0.0015251029677689075\n",
            "Epoch: 17 \t Error: 0.0015224964792529742\n",
            "Epoch: 18 \t Error: 0.0015206111151725055\n",
            "Epoch: 19 \t Error: 0.0015180707243581614\n"
          ]
        }
      ]
    },
    {
      "cell_type": "markdown",
      "source": [
        "#### Encoding and Reconstruction\n"
      ],
      "metadata": {
        "id": "ALr0Ht1hW2C_"
      }
    },
    {
      "cell_type": "code",
      "source": [
        "binary_recon_images = []\n",
        "normalized_recon_images = []\n",
        "\n",
        "for im in og_images:\n",
        "    bin_image = rbm.sample_from_p(im)\n",
        "    _, sample_h = rbm.sample_from_h(bin_image)\n",
        "    p_v, sample_v = rbm.sample_from_v(sample_h)\n",
        "    v_normalized = p_v * 255    # to scale back to gray scale from the p\n",
        "\n",
        "    binary_recon_images.append(sample_v.astype(int).reshape(28, 28))\n",
        "    normalized_recon_images.append(v_normalized.astype(int).reshape(28,28))\n",
        "\n",
        "fig, axes = plt.subplots(nrows=1, ncols=len(reshaped_images), figsize=(20, 2))\n",
        "fig.suptitle(\"Original Images\")\n",
        "for ax, image in zip(axes, reshaped_images):\n",
        "    ax.imshow(image, cmap='gray')\n",
        "    ax.axis('off')\n",
        "plt.show()\n",
        "\n",
        "fig, axes = plt.subplots(nrows=1, ncols=len(binary_recon_images), figsize=(20, 2))\n",
        "fig.suptitle(\"Binary Reconstructed Images\")\n",
        "for ax, image in zip(axes, binary_recon_images):\n",
        "    ax.imshow(image, cmap='gray')\n",
        "    ax.axis('off')\n",
        "plt.show()\n",
        "\n",
        "fig, axes = plt.subplots(nrows=1, ncols=len(binary_recon_images), figsize=(20, 2))\n",
        "fig.suptitle(\"Normalized Reconstructed Images\")\n",
        "for ax, image in zip(axes, normalized_recon_images):\n",
        "    ax.imshow(image, cmap='gray')\n",
        "    ax.axis('off')\n",
        "plt.show()"
      ],
      "metadata": {
        "colab": {
          "base_uri": "https://localhost:8080/",
          "height": 494
        },
        "outputId": "f1978bd5-27cd-4bd7-8e93-40490f365aa5",
        "id": "1Y5UEo2bW2DN"
      },
      "execution_count": null,
      "outputs": [
        {
          "output_type": "display_data",
          "data": {
            "text/plain": [
              "<Figure size 2000x200 with 10 Axes>"
            ],
            "image/png": "[encoded data removed]"
          },
          "metadata": {}
        },
        {
          "output_type": "display_data",
          "data": {
            "text/plain": [
              "<Figure size 2000x200 with 10 Axes>"
            ],
            "image/png": "[encoded data removed]"
          },
          "metadata": {}
        },
        {
          "output_type": "display_data",
          "data": {
            "text/plain": [
              "<Figure size 2000x200 with 10 Axes>"
            ],
            "image/png": "[encoded data removed]"
          },
          "metadata": {}
        }
      ]
    },
    {
      "cell_type": "markdown",
      "source": [
        "As we can see, the reconstruction isn't really too precise using only 30 hidden units, particularly the 4 and 9 are undistinguishable."
      ],
      "metadata": {
        "id": "9XVSNWiEXPWl"
      }
    },
    {
      "cell_type": "code",
      "source": [
        "encoded_X = []\n",
        "\n",
        "for x in train_flattened_images:\n",
        "    binary_x = rbm.sample_from_p(x)\n",
        "    encoded_X.append(rbm.sample_from_h(x)[1])\n",
        "\n",
        "X_train = np.array(encoded_X)\n",
        "y_train = train_labels"
      ],
      "metadata": {
        "id": "_QzwRNDcP6GF"
      },
      "execution_count": null,
      "outputs": []
    },
    {
      "cell_type": "code",
      "source": [
        "encoded_X = []\n",
        "\n",
        "for x in test_flattened_images:\n",
        "    binary_x = rbm.sample_from_p(x)\n",
        "    encoded_X.append(rbm.sample_from_h(x)[1])\n",
        "\n",
        "X_test = np.array(encoded_X)\n",
        "y_test = test_labels"
      ],
      "metadata": {
        "id": "JEZzozn-P6GP"
      },
      "execution_count": null,
      "outputs": []
    },
    {
      "cell_type": "markdown",
      "source": [
        "#### Regression"
      ],
      "metadata": {
        "id": "uPZrVQfHlI7j"
      }
    },
    {
      "cell_type": "code",
      "source": [
        "clf = LinearRegression().fit(X_train, y_train)"
      ],
      "metadata": {
        "id": "w65ouSz_P6GP"
      },
      "execution_count": null,
      "outputs": []
    },
    {
      "cell_type": "code",
      "source": [
        "clf.score(X_test, y_test)"
      ],
      "metadata": {
        "colab": {
          "base_uri": "https://localhost:8080/"
        },
        "outputId": "837fd6be-6d75-4b3d-e0b0-90bffcc39d9a",
        "id": "87HFs2EuP6GQ"
      },
      "execution_count": null,
      "outputs": [
        {
          "output_type": "execute_result",
          "data": {
            "text/plain": [
              "0.5431816862962191"
            ]
          },
          "metadata": {},
          "execution_count": 103
        }
      ]
    },
    {
      "cell_type": "code",
      "source": [
        "clf = LogisticRegression(solver='lbfgs', max_iter=1000, multi_class='multinomial').fit(X_train, y_train)"
      ],
      "metadata": {
        "id": "BVzXu1_uP6GQ"
      },
      "execution_count": null,
      "outputs": []
    },
    {
      "cell_type": "code",
      "source": [
        "clf.score(X_test, y_test)"
      ],
      "metadata": {
        "colab": {
          "base_uri": "https://localhost:8080/"
        },
        "outputId": "f3a2a051-3cc3-4d5e-e933-7f2a7ab30325",
        "id": "mcEeMWljP6GQ"
      },
      "execution_count": null,
      "outputs": [
        {
          "output_type": "execute_result",
          "data": {
            "text/plain": [
              "0.8494"
            ]
          },
          "metadata": {},
          "execution_count": 105
        }
      ]
    },
    {
      "cell_type": "markdown",
      "source": [
        "Using 30 hidden neurons seems to underperform quite noticeably w.r.t. the 100-neurons RBM."
      ],
      "metadata": {
        "id": "0KCDI8Rig5a6"
      }
    },
    {
      "cell_type": "markdown",
      "source": [
        "## Experimenting with Gaussian Visible RBMs\n",
        "\n",
        "Referencing [1] (Section 14.5.1) –when the book arguments about RBM being equivalent to denoising autoencoders under certain conditions– it was interesting to see how a RBM with gaussian visible (the normalized images) would have behaved. For this very reason, the experiment was carried on.\n",
        "\n",
        "Note that the name of GaussianRBM isn't probably very representative of the model and might be ambiguous in unspecified contexts. Here the term \"Gaussian\" only refer to the distribution of the visible units."
      ],
      "metadata": {
        "id": "wKOK3dO0NC0H"
      }
    },
    {
      "cell_type": "code",
      "source": [
        "class GaussianRBM:\n",
        "\n",
        "    def __init__(self, n_visible, n_hidden, learning_rate):\n",
        "        self.n_visible = n_visible\n",
        "        self.n_hidden = n_hidden\n",
        "        self.learning_rate = learning_rate\n",
        "\n",
        "        # Initialize weights and biases\n",
        "        self.weights = np.random.randn(n_visible, n_hidden) * 0.01\n",
        "        self.bias_hidden = np.zeros(n_hidden)\n",
        "        self.bias_visible = np.zeros(n_visible)\n",
        "\n",
        "    def _logistic(self, x):\n",
        "        return 1 / (1 + np.exp(-x))\n",
        "\n",
        "    def p_h_given_v(self, v):\n",
        "        # no sampling has to occur\n",
        "        p_h = self._logistic(np.dot(v, self.weights) + self.bias_hidden)\n",
        "        return p_h\n",
        "\n",
        "    def p_v_given_h(self, h):\n",
        "        # no sampling has to occur\n",
        "        p_v = self._logistic(np.dot(h, self.weights.T) + self.bias_visible)\n",
        "        return p_v\n",
        "\n",
        "    def cd_1(self, data, batch_size, max_epoch):\n",
        "        num_samples = data.shape[0]\n",
        "\n",
        "        for epoch in range(max_epoch):\n",
        "            epoch_error = 0.0\n",
        "\n",
        "            for i in range(0, num_samples, batch_size):\n",
        "                # Get the batch\n",
        "                v = data[i:i+batch_size]\n",
        "\n",
        "                # Contrastive divergence\n",
        "                p_h = self.p_h_given_v(v)\n",
        "                p_v = self.p_v_given_h(p_h)\n",
        "                p_h1 = self.p_h_given_v(p_v)\n",
        "\n",
        "                # Compute the gradients\n",
        "                positive_phase = np.dot(v.T, p_h)\n",
        "                negative_phase = np.dot(p_v.T, p_h1)\n",
        "\n",
        "                # Update weights and biases\n",
        "                self.weights += self.learning_rate * (positive_phase - negative_phase) / batch_size\n",
        "                self.bias_hidden += self.learning_rate * np.mean(p_h - p_h1, axis=0)\n",
        "                self.bias_visible += self.learning_rate * np.mean(v - p_v, axis=0)\n",
        "\n",
        "                # Calculate error\n",
        "                epoch_error += np.mean((v - p_v) ** 2)\n",
        "\n",
        "            epoch_error /= num_samples\n",
        "            print(f'Epoch: {epoch} \\t Error: {epoch_error}')\n"
      ],
      "metadata": {
        "id": "nMvSHVo-NAue"
      },
      "execution_count": null,
      "outputs": []
    },
    {
      "cell_type": "markdown",
      "source": [
        "Keep in mind that in the code above we are not really doing any sampling, rather we just use the probabilities, not to add any noise."
      ],
      "metadata": {
        "id": "eKlO21Fxa_Os"
      }
    },
    {
      "cell_type": "code",
      "source": [
        "n_visible = 28 * 28  # Number of pixels in each image"
      ],
      "metadata": {
        "id": "cxsLN3ShNAug"
      },
      "execution_count": null,
      "outputs": []
    },
    {
      "cell_type": "code",
      "source": [
        "n_hidden = 500\n",
        "\n",
        "gaussian_rbm = GaussianRBM(n_visible, n_hidden, learning_rate=0.1)\n",
        "\n",
        "# flatten the images\n",
        "train_flattened_images = train_images.reshape(-1, 28*28)\n",
        "test_flattened_images = test_images.reshape(-1, 28*28)\n",
        "\n",
        "# train the RBM\n",
        "gaussian_rbm.cd_1(train_flattened_images, batch_size=64, max_epoch=20)"
      ],
      "metadata": {
        "colab": {
          "base_uri": "https://localhost:8080/"
        },
        "outputId": "0b00f81c-d5ca-457e-85ac-1e647468dc17",
        "id": "Ni_bgK9wNAug"
      },
      "execution_count": null,
      "outputs": [
        {
          "output_type": "stream",
          "name": "stdout",
          "text": [
            "Epoch: 0 \t Error: 0.0003253994211918639\n",
            "Epoch: 1 \t Error: 0.00012470032151669458\n",
            "Epoch: 2 \t Error: 8.752844220769314e-05\n",
            "Epoch: 3 \t Error: 7.026190089203217e-05\n",
            "Epoch: 4 \t Error: 6.047414541260669e-05\n",
            "Epoch: 5 \t Error: 5.4021639350546054e-05\n",
            "Epoch: 6 \t Error: 4.939744253630341e-05\n",
            "Epoch: 7 \t Error: 4.591751081306508e-05\n",
            "Epoch: 8 \t Error: 4.3190151124640164e-05\n",
            "Epoch: 9 \t Error: 4.0978854832821546e-05\n",
            "Epoch: 10 \t Error: 3.913816035388145e-05\n",
            "Epoch: 11 \t Error: 3.7573980708102e-05\n",
            "Epoch: 12 \t Error: 3.622237201708542e-05\n",
            "Epoch: 13 \t Error: 3.5038570447553634e-05\n",
            "Epoch: 14 \t Error: 3.399036422508711e-05\n",
            "Epoch: 15 \t Error: 3.305388622625783e-05\n",
            "Epoch: 16 \t Error: 3.221102106493631e-05\n",
            "Epoch: 17 \t Error: 3.144767229217675e-05\n",
            "Epoch: 18 \t Error: 3.075258420166613e-05\n",
            "Epoch: 19 \t Error: 3.0116575684901084e-05\n"
          ]
        }
      ]
    },
    {
      "cell_type": "markdown",
      "source": [
        "### Encoding and Reconstruction\n"
      ],
      "metadata": {
        "id": "9KTvKtqZNAuh"
      }
    },
    {
      "cell_type": "code",
      "source": [
        "recon_images = []\n",
        "\n",
        "for im in og_images:\n",
        "    p_h = gaussian_rbm.p_h_given_v(im)\n",
        "    p_v = gaussian_rbm.p_v_given_h(p_h)\n",
        "    v_scaled = p_v * 255    # to scale back to gray scale\n",
        "    recon_images.append(v_scaled.astype(int).reshape(28, 28))\n",
        "\n",
        "fig, axes = plt.subplots(nrows=1, ncols=len(reshaped_images), figsize=(20, 2))\n",
        "fig.suptitle(\"Original Images\")\n",
        "for ax, image in zip(axes, reshaped_images):\n",
        "    ax.imshow(image, cmap='gray')\n",
        "    ax.axis('off')\n",
        "plt.show()\n",
        "\n",
        "fig, axes = plt.subplots(nrows=1, ncols=len(recon_images), figsize=(20, 2))\n",
        "fig.suptitle(\"Reconstructed Images\")\n",
        "for ax, image in zip(axes, recon_images):\n",
        "    ax.imshow(image, cmap='gray')\n",
        "    ax.axis('off')\n",
        "plt.show()"
      ],
      "metadata": {
        "colab": {
          "base_uri": "https://localhost:8080/",
          "height": 335
        },
        "outputId": "908d89e0-61d9-47b9-d126-d6a785e0d5fc",
        "id": "-HhHhf4zNAuh"
      },
      "execution_count": null,
      "outputs": [
        {
          "output_type": "display_data",
          "data": {
            "text/plain": [
              "<Figure size 2000x200 with 10 Axes>"
            ],
            "image/png": "[encoded data removed]"
          },
          "metadata": {}
        },
        {
          "output_type": "display_data",
          "data": {
            "text/plain": [
              "<Figure size 2000x200 with 10 Axes>"
            ],
            "image/png": "[encoded data removed]"
          },
          "metadata": {}
        }
      ]
    },
    {
      "cell_type": "markdown",
      "source": [
        "It is pretty interesting to see how the images are unrecognisable one another."
      ],
      "metadata": {
        "id": "C4qiVXpzNAui"
      }
    },
    {
      "cell_type": "code",
      "source": [
        "encoded_X = []\n",
        "\n",
        "for x in train_flattened_images:\n",
        "    encoded_X.append(gaussian_rbm.p_h_given_v(x) * 255)    # to normalize in gray scale\n",
        "\n",
        "X_train = np.array(encoded_X)\n",
        "y_train = train_labels"
      ],
      "metadata": {
        "id": "3Vd9hf4jNAui"
      },
      "execution_count": null,
      "outputs": []
    },
    {
      "cell_type": "code",
      "source": [
        "encoded_X = []\n",
        "\n",
        "for x in test_flattened_images:\n",
        "    encoded_X.append(gaussian_rbm.p_h_given_v(x) * 255) # to normalize in gray scale\n",
        "\n",
        "X_test = np.array(encoded_X)\n",
        "y_test = test_labels"
      ],
      "metadata": {
        "id": "dZUNXbqkNAuj"
      },
      "execution_count": null,
      "outputs": []
    },
    {
      "cell_type": "markdown",
      "source": [
        "### Regression"
      ],
      "metadata": {
        "id": "N3VVI6sHNAuj"
      }
    },
    {
      "cell_type": "code",
      "source": [
        "clf = LinearRegression().fit(X_train, y_train)"
      ],
      "metadata": {
        "id": "zwDXRC12NAuj"
      },
      "execution_count": null,
      "outputs": []
    },
    {
      "cell_type": "code",
      "source": [
        "clf.score(X_test, y_test)"
      ],
      "metadata": {
        "colab": {
          "base_uri": "https://localhost:8080/"
        },
        "outputId": "2d80fb8d-1daf-44a6-9c20-cfe921cf62af",
        "id": "MRGOk-CtNAuj"
      },
      "execution_count": null,
      "outputs": [
        {
          "output_type": "execute_result",
          "data": {
            "text/plain": [
              "0.7635692637785194"
            ]
          },
          "metadata": {},
          "execution_count": 33
        }
      ]
    },
    {
      "cell_type": "code",
      "source": [
        "clf = LogisticRegression(solver='lbfgs', max_iter=2000, multi_class='multinomial').fit(X_train, y_train)"
      ],
      "metadata": {
        "outputId": "6ac7ec42-9c4e-463c-8e66-02e9da91002d",
        "colab": {
          "base_uri": "https://localhost:8080/"
        },
        "id": "e1cras22NAuk"
      },
      "execution_count": null,
      "outputs": [
        {
          "output_type": "stream",
          "name": "stderr",
          "text": [
            "/usr/local/lib/python3.10/dist-packages/sklearn/linear_model/_logistic.py:458: ConvergenceWarning: lbfgs failed to converge (status=1):\n",
            "STOP: TOTAL NO. of ITERATIONS REACHED LIMIT.\n",
            "\n",
            "Increase the number of iterations (max_iter) or scale the data as shown in:\n",
            "    https://scikit-learn.org/stable/modules/preprocessing.html\n",
            "Please also refer to the documentation for alternative solver options:\n",
            "    https://scikit-learn.org/stable/modules/linear_model.html#logistic-regression\n",
            "  n_iter_i = _check_optimize_result(\n"
          ]
        }
      ]
    },
    {
      "cell_type": "code",
      "source": [
        "clf.score(X_test, y_test)"
      ],
      "metadata": {
        "colab": {
          "base_uri": "https://localhost:8080/"
        },
        "outputId": "c1ea9dca-7eaf-47cb-9163-3dd8039eb66f",
        "id": "nZwHiNM5NAuk"
      },
      "execution_count": null,
      "outputs": [
        {
          "output_type": "execute_result",
          "data": {
            "text/plain": [
              "0.9498"
            ]
          },
          "metadata": {},
          "execution_count": 35
        }
      ]
    },
    {
      "cell_type": "markdown",
      "source": [
        "## Conclusion\n",
        "\n",
        "In the first half of the notebook the RBM has been implemented and later trained with different parameters. To appreciate the quality of the distribution learned we plotted the reconstructed images for each of the chosen digit and also run a full evaluation on the MNIST test set.\n",
        "\n",
        "In the second half, we shortly experimented a variation of the classical RBM, one with gaussian-distributed visible units. In the latter, no sampling has been adopted (in orther to avoid any sampling noise) giving a very easy and straightforward strategy to perform the cd_1 algorithm.\n",
        "\n",
        "The curiosity to approach this laste experiment has been driven by the statement of Goodfellow-et-al for which a denoising autoencoder is equivalent to an RBM with gaussian visible variables, when trained with denoising score matching –which is not the case here. In any case Bengio-et-all, as cited in [1], showed that an autoencoder gradient provides an approximation to contrastive divergence training of RBMs."
      ],
      "metadata": {
        "id": "5QrGR9X-mdjf"
      }
    },
    {
      "cell_type": "markdown",
      "source": [
        "## Personal Considerations\n",
        "\n",
        "The task was fun. There is plenty of literature regarding RBMs and all possible connections to other models and applications in different fields.\n",
        "\n",
        "It was also nice to appreciate how the model learns the distribution of the data in such a way that it is also able to reconstruct the input digit.\n",
        "\n",
        "Nonetheless, experimenting with non-binary input variables extended the understanding of the model and made clearer the connection between different paradigms."
      ],
      "metadata": {
        "id": "Shawilq_p66F"
      }
    },
    {
      "cell_type": "markdown",
      "source": [
        "## References\n",
        "\n",
        "[1] Ian Goodfellow, Yoshua Bengio, and Aaron Courville, *Deep Learning*, MIT Press, 2016. Available online: [Deep Learning Book](http://www.deeplearningbook.org).\n"
      ],
      "metadata": {
        "id": "XV-vTSPTQbnv"
      }
    }
  ]
}